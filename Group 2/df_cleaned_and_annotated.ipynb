{
  "cells": [
    {
      "cell_type": "markdown",
      "metadata": {
        "id": "-WebqTkyoP5y"
      },
      "source": [
        "# <font color = red >**RAWRR** </font>"
      ]
    },
    {
      "cell_type": "markdown",
      "metadata": {
        "id": "NEfUvkNnocpK"
      },
      "source": [
        "## DEMOGRAPHICS OF THE DATASET"
      ]
    },
    {
      "cell_type": "code",
      "execution_count": null,
      "metadata": {
        "id": "B48VjpQ9Zzs3"
      },
      "outputs": [],
      "source": [
        "#@title Mount Drive\n",
        "from google.colab import drive"
      ]
    },
    {
      "cell_type": "code",
      "execution_count": null,
      "metadata": {
        "id": "An5asUcOac9D"
      },
      "outputs": [],
      "source": [
        "#@title Load Libraries\n",
        "\n",
        "import pandas as pd\n",
        "import numpy as np\n",
        "import matplotlib\n",
        "import matplotlib.pyplot as plt"
      ]
    },
    {
      "cell_type": "code",
      "execution_count": null,
      "metadata": {
        "colab": {
          "base_uri": "https://localhost:8080/",
          "height": 73
        },
        "id": "nd9tb7FkatrW",
        "outputId": "c17a179b-d506-4dff-a54d-fde45699ab8e"
      },
      "outputs": [
        {
          "output_type": "display_data",
          "data": {
            "text/plain": [
              "<IPython.core.display.HTML object>"
            ],
            "text/html": [
              "\n",
              "     <input type=\"file\" id=\"files-35dc9a43-fe20-45e0-8eaa-e994556a6c9a\" name=\"files[]\" multiple disabled\n",
              "        style=\"border:none\" />\n",
              "     <output id=\"result-35dc9a43-fe20-45e0-8eaa-e994556a6c9a\">\n",
              "      Upload widget is only available when the cell has been executed in the\n",
              "      current browser session. Please rerun this cell to enable.\n",
              "      </output>\n",
              "      <script>// Copyright 2017 Google LLC\n",
              "//\n",
              "// Licensed under the Apache License, Version 2.0 (the \"License\");\n",
              "// you may not use this file except in compliance with the License.\n",
              "// You may obtain a copy of the License at\n",
              "//\n",
              "//      http://www.apache.org/licenses/LICENSE-2.0\n",
              "//\n",
              "// Unless required by applicable law or agreed to in writing, software\n",
              "// distributed under the License is distributed on an \"AS IS\" BASIS,\n",
              "// WITHOUT WARRANTIES OR CONDITIONS OF ANY KIND, either express or implied.\n",
              "// See the License for the specific language governing permissions and\n",
              "// limitations under the License.\n",
              "\n",
              "/**\n",
              " * @fileoverview Helpers for google.colab Python module.\n",
              " */\n",
              "(function(scope) {\n",
              "function span(text, styleAttributes = {}) {\n",
              "  const element = document.createElement('span');\n",
              "  element.textContent = text;\n",
              "  for (const key of Object.keys(styleAttributes)) {\n",
              "    element.style[key] = styleAttributes[key];\n",
              "  }\n",
              "  return element;\n",
              "}\n",
              "\n",
              "// Max number of bytes which will be uploaded at a time.\n",
              "const MAX_PAYLOAD_SIZE = 100 * 1024;\n",
              "\n",
              "function _uploadFiles(inputId, outputId) {\n",
              "  const steps = uploadFilesStep(inputId, outputId);\n",
              "  const outputElement = document.getElementById(outputId);\n",
              "  // Cache steps on the outputElement to make it available for the next call\n",
              "  // to uploadFilesContinue from Python.\n",
              "  outputElement.steps = steps;\n",
              "\n",
              "  return _uploadFilesContinue(outputId);\n",
              "}\n",
              "\n",
              "// This is roughly an async generator (not supported in the browser yet),\n",
              "// where there are multiple asynchronous steps and the Python side is going\n",
              "// to poll for completion of each step.\n",
              "// This uses a Promise to block the python side on completion of each step,\n",
              "// then passes the result of the previous step as the input to the next step.\n",
              "function _uploadFilesContinue(outputId) {\n",
              "  const outputElement = document.getElementById(outputId);\n",
              "  const steps = outputElement.steps;\n",
              "\n",
              "  const next = steps.next(outputElement.lastPromiseValue);\n",
              "  return Promise.resolve(next.value.promise).then((value) => {\n",
              "    // Cache the last promise value to make it available to the next\n",
              "    // step of the generator.\n",
              "    outputElement.lastPromiseValue = value;\n",
              "    return next.value.response;\n",
              "  });\n",
              "}\n",
              "\n",
              "/**\n",
              " * Generator function which is called between each async step of the upload\n",
              " * process.\n",
              " * @param {string} inputId Element ID of the input file picker element.\n",
              " * @param {string} outputId Element ID of the output display.\n",
              " * @return {!Iterable<!Object>} Iterable of next steps.\n",
              " */\n",
              "function* uploadFilesStep(inputId, outputId) {\n",
              "  const inputElement = document.getElementById(inputId);\n",
              "  inputElement.disabled = false;\n",
              "\n",
              "  const outputElement = document.getElementById(outputId);\n",
              "  outputElement.innerHTML = '';\n",
              "\n",
              "  const pickedPromise = new Promise((resolve) => {\n",
              "    inputElement.addEventListener('change', (e) => {\n",
              "      resolve(e.target.files);\n",
              "    });\n",
              "  });\n",
              "\n",
              "  const cancel = document.createElement('button');\n",
              "  inputElement.parentElement.appendChild(cancel);\n",
              "  cancel.textContent = 'Cancel upload';\n",
              "  const cancelPromise = new Promise((resolve) => {\n",
              "    cancel.onclick = () => {\n",
              "      resolve(null);\n",
              "    };\n",
              "  });\n",
              "\n",
              "  // Wait for the user to pick the files.\n",
              "  const files = yield {\n",
              "    promise: Promise.race([pickedPromise, cancelPromise]),\n",
              "    response: {\n",
              "      action: 'starting',\n",
              "    }\n",
              "  };\n",
              "\n",
              "  cancel.remove();\n",
              "\n",
              "  // Disable the input element since further picks are not allowed.\n",
              "  inputElement.disabled = true;\n",
              "\n",
              "  if (!files) {\n",
              "    return {\n",
              "      response: {\n",
              "        action: 'complete',\n",
              "      }\n",
              "    };\n",
              "  }\n",
              "\n",
              "  for (const file of files) {\n",
              "    const li = document.createElement('li');\n",
              "    li.append(span(file.name, {fontWeight: 'bold'}));\n",
              "    li.append(span(\n",
              "        `(${file.type || 'n/a'}) - ${file.size} bytes, ` +\n",
              "        `last modified: ${\n",
              "            file.lastModifiedDate ? file.lastModifiedDate.toLocaleDateString() :\n",
              "                                    'n/a'} - `));\n",
              "    const percent = span('0% done');\n",
              "    li.appendChild(percent);\n",
              "\n",
              "    outputElement.appendChild(li);\n",
              "\n",
              "    const fileDataPromise = new Promise((resolve) => {\n",
              "      const reader = new FileReader();\n",
              "      reader.onload = (e) => {\n",
              "        resolve(e.target.result);\n",
              "      };\n",
              "      reader.readAsArrayBuffer(file);\n",
              "    });\n",
              "    // Wait for the data to be ready.\n",
              "    let fileData = yield {\n",
              "      promise: fileDataPromise,\n",
              "      response: {\n",
              "        action: 'continue',\n",
              "      }\n",
              "    };\n",
              "\n",
              "    // Use a chunked sending to avoid message size limits. See b/62115660.\n",
              "    let position = 0;\n",
              "    do {\n",
              "      const length = Math.min(fileData.byteLength - position, MAX_PAYLOAD_SIZE);\n",
              "      const chunk = new Uint8Array(fileData, position, length);\n",
              "      position += length;\n",
              "\n",
              "      const base64 = btoa(String.fromCharCode.apply(null, chunk));\n",
              "      yield {\n",
              "        response: {\n",
              "          action: 'append',\n",
              "          file: file.name,\n",
              "          data: base64,\n",
              "        },\n",
              "      };\n",
              "\n",
              "      let percentDone = fileData.byteLength === 0 ?\n",
              "          100 :\n",
              "          Math.round((position / fileData.byteLength) * 100);\n",
              "      percent.textContent = `${percentDone}% done`;\n",
              "\n",
              "    } while (position < fileData.byteLength);\n",
              "  }\n",
              "\n",
              "  // All done.\n",
              "  yield {\n",
              "    response: {\n",
              "      action: 'complete',\n",
              "    }\n",
              "  };\n",
              "}\n",
              "\n",
              "scope.google = scope.google || {};\n",
              "scope.google.colab = scope.google.colab || {};\n",
              "scope.google.colab._files = {\n",
              "  _uploadFiles,\n",
              "  _uploadFilesContinue,\n",
              "};\n",
              "})(self);\n",
              "</script> "
            ]
          },
          "metadata": {}
        },
        {
          "output_type": "stream",
          "name": "stdout",
          "text": [
            "Saving df_copy_with_index.xlsx to df_copy_with_index.xlsx\n"
          ]
        }
      ],
      "source": [
        "#@title to upload files in G_COLAB\n",
        "from google.colab import files\n",
        "\n",
        "uploaded = files.upload()"
      ]
    },
    {
      "cell_type": "code",
      "execution_count": null,
      "metadata": {
        "colab": {
          "base_uri": "https://localhost:8080/",
          "height": 501
        },
        "id": "4FNBS2wNbOUK",
        "outputId": "1a8eaf22-4ac5-4e7f-a575-297fbd88f568"
      },
      "outputs": [
        {
          "output_type": "execute_result",
          "data": {
            "text/plain": [
              "   Unnamed: 0                                           SENTENCE  \\\n",
              "0           0           Si Maria ay nagluto ng masarap na adobo.   \n",
              "1           1                  Kumanta si John sa kasal kahapon.   \n",
              "2           2            Siya ang nagwagi sa patimpalak na iyon.   \n",
              "3           3  Ang aking kapatid ay nag-aral nang mabuti para...   \n",
              "4           4                   Naglakad siya sa ilalim ng ulan.   \n",
              "\n",
              "     POKUS NG PANDIWA  count  label  \\\n",
              "0  POKUS SA TAGAGANAP      8      0   \n",
              "1  POKUS SA TAGAGANAP      6      0   \n",
              "2  POKUS SA TAGAGANAP      7      0   \n",
              "3  POKUS SA TAGAGANAP     10      0   \n",
              "4  POKUS SA TAGAGANAP      6      0   \n",
              "\n",
              "                                   Modified_Entities  \\\n",
              "0  [{'Entity': 'DTP', 'Word': 'si'}, {'Entity': '...   \n",
              "1  [{'Entity': 'VBAF', 'Word': 'kumanta'}, {'Enti...   \n",
              "2  [{'Entity': 'PRS', 'Word': 'siya'}, {'Entity':...   \n",
              "3  [{'Entity': 'DTC', 'Word': 'ang'}, {'Entity': ...   \n",
              "4  [{'Entity': 'VBTS', 'Word': 'naglakad'}, {'Ent...   \n",
              "\n",
              "                                   Modified_Sentence  \\\n",
              "0          si maria ay nagluto ng masarap na adobo .   \n",
              "1                 kumanta si john sa kasal kahapon .   \n",
              "2           siya ang nagwagi sa patimpalak na iyon .   \n",
              "3  ang aking kapatid ay nag-aral nang mabuti para...   \n",
              "4                  naglakad siya sa ilalim ng ulan .   \n",
              "\n",
              "                            Modified_Unique_Entities  \\\n",
              "0  [{'Entity': 'DTP', 'Word': 'si'}, {'Entity': '...   \n",
              "1  [{'Entity': 'VBAF', 'Word': 'kumanta'}, {'Enti...   \n",
              "2  [{'Entity': 'PRS', 'Word': 'siya'}, {'Entity':...   \n",
              "3  [{'Entity': 'DTC', 'Word': 'ang'}, {'Entity': ...   \n",
              "4  [{'Entity': 'VBTS', 'Word': 'naglakad'}, {'Ent...   \n",
              "\n",
              "                                   Pandiwa_Entities  \\\n",
              "0           [{'Entity': 'VBTR', 'Word': 'nagluto'}]   \n",
              "1           [{'Entity': 'VBAF', 'Word': 'kumanta'}]   \n",
              "2           [{'Entity': 'VBTS', 'Word': 'nagwagi'}]   \n",
              "3  [{'Entity': 'VBTS_CCB_VBW', 'Word': 'nag-aral'}]   \n",
              "4          [{'Entity': 'VBTS', 'Word': 'naglakad'}]   \n",
              "\n",
              "                             Unique_Pandiwa_Entities  \\\n",
              "0            [{'Entity': 'VBTR', 'Word': 'nagluto'}]   \n",
              "1            [{'Entity': 'VBAF', 'Word': 'kumanta'}]   \n",
              "2            [{'Entity': 'VBTS', 'Word': 'nagwagi'}]   \n",
              "3  [{'Entity': 'VBTS', 'Word': 'nag-aral'}, {'Ent...   \n",
              "4           [{'Entity': 'VBTS', 'Word': 'naglakad'}]   \n",
              "\n",
              "                            Tagged_Modified_Sentence  \n",
              "0  si maria ay PANDIWA: nagluto ng masarap na ado...  \n",
              "1        PANDIWA: kumanta si john sa kasal kahapon .  \n",
              "2  siya ang PANDIWA: nagwagi sa patimpalak na iyon .  \n",
              "3  ang aking kapatid ay PANDIWA: nag-aral nang ma...  \n",
              "4         PANDIWA: naglakad siya sa ilalim ng ulan .  "
            ],
            "text/html": [
              "\n",
              "  <div id=\"df-93f61fdd-9e96-4f0e-93c6-2825711c4d1e\" class=\"colab-df-container\">\n",
              "    <div>\n",
              "<style scoped>\n",
              "    .dataframe tbody tr th:only-of-type {\n",
              "        vertical-align: middle;\n",
              "    }\n",
              "\n",
              "    .dataframe tbody tr th {\n",
              "        vertical-align: top;\n",
              "    }\n",
              "\n",
              "    .dataframe thead th {\n",
              "        text-align: right;\n",
              "    }\n",
              "</style>\n",
              "<table border=\"1\" class=\"dataframe\">\n",
              "  <thead>\n",
              "    <tr style=\"text-align: right;\">\n",
              "      <th></th>\n",
              "      <th>Unnamed: 0</th>\n",
              "      <th>SENTENCE</th>\n",
              "      <th>POKUS NG PANDIWA</th>\n",
              "      <th>count</th>\n",
              "      <th>label</th>\n",
              "      <th>Modified_Entities</th>\n",
              "      <th>Modified_Sentence</th>\n",
              "      <th>Modified_Unique_Entities</th>\n",
              "      <th>Pandiwa_Entities</th>\n",
              "      <th>Unique_Pandiwa_Entities</th>\n",
              "      <th>Tagged_Modified_Sentence</th>\n",
              "    </tr>\n",
              "  </thead>\n",
              "  <tbody>\n",
              "    <tr>\n",
              "      <th>0</th>\n",
              "      <td>0</td>\n",
              "      <td>Si Maria ay nagluto ng masarap na adobo.</td>\n",
              "      <td>POKUS SA TAGAGANAP</td>\n",
              "      <td>8</td>\n",
              "      <td>0</td>\n",
              "      <td>[{'Entity': 'DTP', 'Word': 'si'}, {'Entity': '...</td>\n",
              "      <td>si maria ay nagluto ng masarap na adobo .</td>\n",
              "      <td>[{'Entity': 'DTP', 'Word': 'si'}, {'Entity': '...</td>\n",
              "      <td>[{'Entity': 'VBTR', 'Word': 'nagluto'}]</td>\n",
              "      <td>[{'Entity': 'VBTR', 'Word': 'nagluto'}]</td>\n",
              "      <td>si maria ay PANDIWA: nagluto ng masarap na ado...</td>\n",
              "    </tr>\n",
              "    <tr>\n",
              "      <th>1</th>\n",
              "      <td>1</td>\n",
              "      <td>Kumanta si John sa kasal kahapon.</td>\n",
              "      <td>POKUS SA TAGAGANAP</td>\n",
              "      <td>6</td>\n",
              "      <td>0</td>\n",
              "      <td>[{'Entity': 'VBAF', 'Word': 'kumanta'}, {'Enti...</td>\n",
              "      <td>kumanta si john sa kasal kahapon .</td>\n",
              "      <td>[{'Entity': 'VBAF', 'Word': 'kumanta'}, {'Enti...</td>\n",
              "      <td>[{'Entity': 'VBAF', 'Word': 'kumanta'}]</td>\n",
              "      <td>[{'Entity': 'VBAF', 'Word': 'kumanta'}]</td>\n",
              "      <td>PANDIWA: kumanta si john sa kasal kahapon .</td>\n",
              "    </tr>\n",
              "    <tr>\n",
              "      <th>2</th>\n",
              "      <td>2</td>\n",
              "      <td>Siya ang nagwagi sa patimpalak na iyon.</td>\n",
              "      <td>POKUS SA TAGAGANAP</td>\n",
              "      <td>7</td>\n",
              "      <td>0</td>\n",
              "      <td>[{'Entity': 'PRS', 'Word': 'siya'}, {'Entity':...</td>\n",
              "      <td>siya ang nagwagi sa patimpalak na iyon .</td>\n",
              "      <td>[{'Entity': 'PRS', 'Word': 'siya'}, {'Entity':...</td>\n",
              "      <td>[{'Entity': 'VBTS', 'Word': 'nagwagi'}]</td>\n",
              "      <td>[{'Entity': 'VBTS', 'Word': 'nagwagi'}]</td>\n",
              "      <td>siya ang PANDIWA: nagwagi sa patimpalak na iyon .</td>\n",
              "    </tr>\n",
              "    <tr>\n",
              "      <th>3</th>\n",
              "      <td>3</td>\n",
              "      <td>Ang aking kapatid ay nag-aral nang mabuti para...</td>\n",
              "      <td>POKUS SA TAGAGANAP</td>\n",
              "      <td>10</td>\n",
              "      <td>0</td>\n",
              "      <td>[{'Entity': 'DTC', 'Word': 'ang'}, {'Entity': ...</td>\n",
              "      <td>ang aking kapatid ay nag-aral nang mabuti para...</td>\n",
              "      <td>[{'Entity': 'DTC', 'Word': 'ang'}, {'Entity': ...</td>\n",
              "      <td>[{'Entity': 'VBTS_CCB_VBW', 'Word': 'nag-aral'}]</td>\n",
              "      <td>[{'Entity': 'VBTS', 'Word': 'nag-aral'}, {'Ent...</td>\n",
              "      <td>ang aking kapatid ay PANDIWA: nag-aral nang ma...</td>\n",
              "    </tr>\n",
              "    <tr>\n",
              "      <th>4</th>\n",
              "      <td>4</td>\n",
              "      <td>Naglakad siya sa ilalim ng ulan.</td>\n",
              "      <td>POKUS SA TAGAGANAP</td>\n",
              "      <td>6</td>\n",
              "      <td>0</td>\n",
              "      <td>[{'Entity': 'VBTS', 'Word': 'naglakad'}, {'Ent...</td>\n",
              "      <td>naglakad siya sa ilalim ng ulan .</td>\n",
              "      <td>[{'Entity': 'VBTS', 'Word': 'naglakad'}, {'Ent...</td>\n",
              "      <td>[{'Entity': 'VBTS', 'Word': 'naglakad'}]</td>\n",
              "      <td>[{'Entity': 'VBTS', 'Word': 'naglakad'}]</td>\n",
              "      <td>PANDIWA: naglakad siya sa ilalim ng ulan .</td>\n",
              "    </tr>\n",
              "  </tbody>\n",
              "</table>\n",
              "</div>\n",
              "    <div class=\"colab-df-buttons\">\n",
              "\n",
              "  <div class=\"colab-df-container\">\n",
              "    <button class=\"colab-df-convert\" onclick=\"convertToInteractive('df-93f61fdd-9e96-4f0e-93c6-2825711c4d1e')\"\n",
              "            title=\"Convert this dataframe to an interactive table.\"\n",
              "            style=\"display:none;\">\n",
              "\n",
              "  <svg xmlns=\"http://www.w3.org/2000/svg\" height=\"24px\" viewBox=\"0 -960 960 960\">\n",
              "    <path d=\"M120-120v-720h720v720H120Zm60-500h600v-160H180v160Zm220 220h160v-160H400v160Zm0 220h160v-160H400v160ZM180-400h160v-160H180v160Zm440 0h160v-160H620v160ZM180-180h160v-160H180v160Zm440 0h160v-160H620v160Z\"/>\n",
              "  </svg>\n",
              "    </button>\n",
              "\n",
              "  <style>\n",
              "    .colab-df-container {\n",
              "      display:flex;\n",
              "      gap: 12px;\n",
              "    }\n",
              "\n",
              "    .colab-df-convert {\n",
              "      background-color: #E8F0FE;\n",
              "      border: none;\n",
              "      border-radius: 50%;\n",
              "      cursor: pointer;\n",
              "      display: none;\n",
              "      fill: #1967D2;\n",
              "      height: 32px;\n",
              "      padding: 0 0 0 0;\n",
              "      width: 32px;\n",
              "    }\n",
              "\n",
              "    .colab-df-convert:hover {\n",
              "      background-color: #E2EBFA;\n",
              "      box-shadow: 0px 1px 2px rgba(60, 64, 67, 0.3), 0px 1px 3px 1px rgba(60, 64, 67, 0.15);\n",
              "      fill: #174EA6;\n",
              "    }\n",
              "\n",
              "    .colab-df-buttons div {\n",
              "      margin-bottom: 4px;\n",
              "    }\n",
              "\n",
              "    [theme=dark] .colab-df-convert {\n",
              "      background-color: #3B4455;\n",
              "      fill: #D2E3FC;\n",
              "    }\n",
              "\n",
              "    [theme=dark] .colab-df-convert:hover {\n",
              "      background-color: #434B5C;\n",
              "      box-shadow: 0px 1px 3px 1px rgba(0, 0, 0, 0.15);\n",
              "      filter: drop-shadow(0px 1px 2px rgba(0, 0, 0, 0.3));\n",
              "      fill: #FFFFFF;\n",
              "    }\n",
              "  </style>\n",
              "\n",
              "    <script>\n",
              "      const buttonEl =\n",
              "        document.querySelector('#df-93f61fdd-9e96-4f0e-93c6-2825711c4d1e button.colab-df-convert');\n",
              "      buttonEl.style.display =\n",
              "        google.colab.kernel.accessAllowed ? 'block' : 'none';\n",
              "\n",
              "      async function convertToInteractive(key) {\n",
              "        const element = document.querySelector('#df-93f61fdd-9e96-4f0e-93c6-2825711c4d1e');\n",
              "        const dataTable =\n",
              "          await google.colab.kernel.invokeFunction('convertToInteractive',\n",
              "                                                    [key], {});\n",
              "        if (!dataTable) return;\n",
              "\n",
              "        const docLinkHtml = 'Like what you see? Visit the ' +\n",
              "          '<a target=\"_blank\" href=https://colab.research.google.com/notebooks/data_table.ipynb>data table notebook</a>'\n",
              "          + ' to learn more about interactive tables.';\n",
              "        element.innerHTML = '';\n",
              "        dataTable['output_type'] = 'display_data';\n",
              "        await google.colab.output.renderOutput(dataTable, element);\n",
              "        const docLink = document.createElement('div');\n",
              "        docLink.innerHTML = docLinkHtml;\n",
              "        element.appendChild(docLink);\n",
              "      }\n",
              "    </script>\n",
              "  </div>\n",
              "\n",
              "\n",
              "<div id=\"df-3b588c23-ab23-44ca-a103-82c010fd2ad1\">\n",
              "  <button class=\"colab-df-quickchart\" onclick=\"quickchart('df-3b588c23-ab23-44ca-a103-82c010fd2ad1')\"\n",
              "            title=\"Suggest charts\"\n",
              "            style=\"display:none;\">\n",
              "\n",
              "<svg xmlns=\"http://www.w3.org/2000/svg\" height=\"24px\"viewBox=\"0 0 24 24\"\n",
              "     width=\"24px\">\n",
              "    <g>\n",
              "        <path d=\"M19 3H5c-1.1 0-2 .9-2 2v14c0 1.1.9 2 2 2h14c1.1 0 2-.9 2-2V5c0-1.1-.9-2-2-2zM9 17H7v-7h2v7zm4 0h-2V7h2v10zm4 0h-2v-4h2v4z\"/>\n",
              "    </g>\n",
              "</svg>\n",
              "  </button>\n",
              "\n",
              "<style>\n",
              "  .colab-df-quickchart {\n",
              "      --bg-color: #E8F0FE;\n",
              "      --fill-color: #1967D2;\n",
              "      --hover-bg-color: #E2EBFA;\n",
              "      --hover-fill-color: #174EA6;\n",
              "      --disabled-fill-color: #AAA;\n",
              "      --disabled-bg-color: #DDD;\n",
              "  }\n",
              "\n",
              "  [theme=dark] .colab-df-quickchart {\n",
              "      --bg-color: #3B4455;\n",
              "      --fill-color: #D2E3FC;\n",
              "      --hover-bg-color: #434B5C;\n",
              "      --hover-fill-color: #FFFFFF;\n",
              "      --disabled-bg-color: #3B4455;\n",
              "      --disabled-fill-color: #666;\n",
              "  }\n",
              "\n",
              "  .colab-df-quickchart {\n",
              "    background-color: var(--bg-color);\n",
              "    border: none;\n",
              "    border-radius: 50%;\n",
              "    cursor: pointer;\n",
              "    display: none;\n",
              "    fill: var(--fill-color);\n",
              "    height: 32px;\n",
              "    padding: 0;\n",
              "    width: 32px;\n",
              "  }\n",
              "\n",
              "  .colab-df-quickchart:hover {\n",
              "    background-color: var(--hover-bg-color);\n",
              "    box-shadow: 0 1px 2px rgba(60, 64, 67, 0.3), 0 1px 3px 1px rgba(60, 64, 67, 0.15);\n",
              "    fill: var(--button-hover-fill-color);\n",
              "  }\n",
              "\n",
              "  .colab-df-quickchart-complete:disabled,\n",
              "  .colab-df-quickchart-complete:disabled:hover {\n",
              "    background-color: var(--disabled-bg-color);\n",
              "    fill: var(--disabled-fill-color);\n",
              "    box-shadow: none;\n",
              "  }\n",
              "\n",
              "  .colab-df-spinner {\n",
              "    border: 2px solid var(--fill-color);\n",
              "    border-color: transparent;\n",
              "    border-bottom-color: var(--fill-color);\n",
              "    animation:\n",
              "      spin 1s steps(1) infinite;\n",
              "  }\n",
              "\n",
              "  @keyframes spin {\n",
              "    0% {\n",
              "      border-color: transparent;\n",
              "      border-bottom-color: var(--fill-color);\n",
              "      border-left-color: var(--fill-color);\n",
              "    }\n",
              "    20% {\n",
              "      border-color: transparent;\n",
              "      border-left-color: var(--fill-color);\n",
              "      border-top-color: var(--fill-color);\n",
              "    }\n",
              "    30% {\n",
              "      border-color: transparent;\n",
              "      border-left-color: var(--fill-color);\n",
              "      border-top-color: var(--fill-color);\n",
              "      border-right-color: var(--fill-color);\n",
              "    }\n",
              "    40% {\n",
              "      border-color: transparent;\n",
              "      border-right-color: var(--fill-color);\n",
              "      border-top-color: var(--fill-color);\n",
              "    }\n",
              "    60% {\n",
              "      border-color: transparent;\n",
              "      border-right-color: var(--fill-color);\n",
              "    }\n",
              "    80% {\n",
              "      border-color: transparent;\n",
              "      border-right-color: var(--fill-color);\n",
              "      border-bottom-color: var(--fill-color);\n",
              "    }\n",
              "    90% {\n",
              "      border-color: transparent;\n",
              "      border-bottom-color: var(--fill-color);\n",
              "    }\n",
              "  }\n",
              "</style>\n",
              "\n",
              "  <script>\n",
              "    async function quickchart(key) {\n",
              "      const quickchartButtonEl =\n",
              "        document.querySelector('#' + key + ' button');\n",
              "      quickchartButtonEl.disabled = true;  // To prevent multiple clicks.\n",
              "      quickchartButtonEl.classList.add('colab-df-spinner');\n",
              "      try {\n",
              "        const charts = await google.colab.kernel.invokeFunction(\n",
              "            'suggestCharts', [key], {});\n",
              "      } catch (error) {\n",
              "        console.error('Error during call to suggestCharts:', error);\n",
              "      }\n",
              "      quickchartButtonEl.classList.remove('colab-df-spinner');\n",
              "      quickchartButtonEl.classList.add('colab-df-quickchart-complete');\n",
              "    }\n",
              "    (() => {\n",
              "      let quickchartButtonEl =\n",
              "        document.querySelector('#df-3b588c23-ab23-44ca-a103-82c010fd2ad1 button');\n",
              "      quickchartButtonEl.style.display =\n",
              "        google.colab.kernel.accessAllowed ? 'block' : 'none';\n",
              "    })();\n",
              "  </script>\n",
              "</div>\n",
              "    </div>\n",
              "  </div>\n"
            ]
          },
          "metadata": {},
          "execution_count": 4
        }
      ],
      "source": [
        "#@title read data\n",
        "\n",
        "df = pd.read_excel('/content/df_copy_with_index.xlsx')\n",
        "df.head()"
      ]
    },
    {
      "cell_type": "code",
      "execution_count": null,
      "metadata": {
        "colab": {
          "base_uri": "https://localhost:8080/"
        },
        "id": "O1Vxi2PEcKAg",
        "outputId": "2e7469e6-e5af-4209-e272-0f05c01c0ec0"
      },
      "outputs": [
        {
          "output_type": "execute_result",
          "data": {
            "text/plain": [
              "(94526, 11)"
            ]
          },
          "metadata": {},
          "execution_count": 5
        }
      ],
      "source": [
        "df.shape"
      ]
    },
    {
      "cell_type": "code",
      "execution_count": null,
      "metadata": {
        "id": "lVwHPynblDKB"
      },
      "outputs": [],
      "source": [
        "%%capture\n",
        "!pip install transformers"
      ]
    },
    {
      "cell_type": "code",
      "execution_count": null,
      "metadata": {
        "id": "FyM0X-GpkXvz"
      },
      "outputs": [],
      "source": [
        "from transformers import DistilBertTokenizer\n",
        "from transformers import DistilBertForSequenceClassification\n",
        "from transformers import TextClassificationPipeline"
      ]
    },
    {
      "cell_type": "code",
      "execution_count": null,
      "metadata": {
        "id": "PCpjOnUMkXgf"
      },
      "outputs": [],
      "source": [
        "import torch\n",
        "import numpy as np\n",
        "from transformers import AutoTokenizer, AutoModelForSequenceClassification, TrainingArguments, Trainer\n",
        "from sklearn.model_selection import train_test_split\n",
        "from sklearn.metrics import classification_report, accuracy_score"
      ]
    },
    {
      "cell_type": "code",
      "execution_count": null,
      "metadata": {
        "colab": {
          "base_uri": "https://localhost:8080/",
          "height": 113,
          "referenced_widgets": [
            "7c4eac36502a4f53adc26716ab4e40e4",
            "6935df59d0a142a59f30b22ac0787485",
            "19240925fdf24d269db15622e9917450",
            "40d67dbde18740268c5405eb90e013d7",
            "e3c9b851dac04de693795da8a83bd179",
            "524be527825f49479ee676b303f14b54",
            "58bf6a33cdde44ff9319fb17eec95698",
            "f5cf313e0c694639951a9632cb344fe1",
            "b6ae3e8d4ccb4ec0a0c86fc20531b37b",
            "67d243e5618641adb335dc520c56da00",
            "671793738e524d10aaf86dcd5f808421",
            "51607a6ef8de465c96f84a334a808423",
            "255a97fcea424a02b804030cd52163c8",
            "69066847336f4157afe7016e48cccaa9",
            "f40d6caa2bba4a32be416ff14d66116b",
            "eef4bb6f3f254877be8be8d5aa20c20b",
            "31ae4f61ab3b45528fcb2233c08c4cc6",
            "7c15516ee7804e0db73aaa6496cd1a5c",
            "29ade1407ed0426681f7f03e512a045b",
            "b13033780bf849a9bbd634426876cd42",
            "74f8876510bd47b6b9cd267b8babda39",
            "05747d2612224157b7358dbd83e421d5",
            "861646444f944ad69360f15d045af7fe",
            "76b72debeb1d4b70a7eefe12cab0fd83",
            "2f11addfad5942feb3cdd4a5ac0a1576",
            "62d1ae1681c54374bbf48ff931440ea9",
            "235594823a82496fb65f8322cdee880e",
            "0515a13ae6ac49148dc1b638b648950a",
            "d959aab975334cefac3d4177ce76066b",
            "54e29f25e5ea48bcb1d775d93abd89a3",
            "cc62b222a72047db9b50548ed693e9df",
            "3d1e2ec40a414a64b655dee4d8154090",
            "5d6eefdd633e41e1a7f885ee0f63a434"
          ]
        },
        "id": "UjuQ-lNikevi",
        "outputId": "5b06e258-c710-4cf4-d4c6-a90ecad3eb1c"
      },
      "outputs": [
        {
          "output_type": "display_data",
          "data": {
            "text/plain": [
              "tokenizer_config.json:   0%|          | 0.00/55.0 [00:00<?, ?B/s]"
            ],
            "application/vnd.jupyter.widget-view+json": {
              "version_major": 2,
              "version_minor": 0,
              "model_id": "7c4eac36502a4f53adc26716ab4e40e4"
            }
          },
          "metadata": {}
        },
        {
          "output_type": "display_data",
          "data": {
            "text/plain": [
              "vocab.txt:   0%|          | 0.00/256k [00:00<?, ?B/s]"
            ],
            "application/vnd.jupyter.widget-view+json": {
              "version_major": 2,
              "version_minor": 0,
              "model_id": "51607a6ef8de465c96f84a334a808423"
            }
          },
          "metadata": {}
        },
        {
          "output_type": "display_data",
          "data": {
            "text/plain": [
              "config.json:   0%|          | 0.00/1.21k [00:00<?, ?B/s]"
            ],
            "application/vnd.jupyter.widget-view+json": {
              "version_major": 2,
              "version_minor": 0,
              "model_id": "861646444f944ad69360f15d045af7fe"
            }
          },
          "metadata": {}
        }
      ],
      "source": [
        "from transformers import DistilBertTokenizer\n",
        "\n",
        "#@title Load and preprocess data\n",
        "tokenizer = DistilBertTokenizer.from_pretrained(\"jcblaise/distilbert-tagalog-base-cased\")\n",
        "\n",
        "# Define a function to tokenize and lowercase the sentences\n",
        "def tokenize_and_lowercase(text):\n",
        "    text = text.lower()  # Convert the text to lowercase\n",
        "    tokens = tokenizer.encode(text, add_special_tokens=True)\n",
        "    return tokens\n",
        "\n",
        "# Apply the tokenize_and_lowercase function to sentences\n",
        "tokenized = df[\"SENTENCE\"].apply(tokenize_and_lowercase)\n",
        "\n",
        "max_len = max(map(len, tokenized))\n",
        "padded = torch.tensor([i + [0] * (max_len - len(i)) for i in tokenized])\n"
      ]
    },
    {
      "cell_type": "code",
      "execution_count": null,
      "metadata": {
        "id": "joUGbetgndx6"
      },
      "outputs": [],
      "source": [
        "# Define a function to tokenize and lowercase the sentences\n",
        "def tokenize_and_lowercase(text):\n",
        "    text = text.lower()  # Convert the text to lowercase\n",
        "    tokens = tokenizer.encode(text, add_special_tokens=True)\n",
        "    return text"
      ]
    },
    {
      "cell_type": "code",
      "execution_count": null,
      "metadata": {
        "colab": {
          "base_uri": "https://localhost:8080/"
        },
        "id": "yvb5b0ynmbGB",
        "outputId": "d829f3ce-02a2-4f5c-d89e-deca36497529"
      },
      "outputs": [
        {
          "output_type": "stream",
          "name": "stdout",
          "text": [
            "si maria ay nagluto ng masarap na adobo.\n",
            "kumanta si john sa kasal kahapon.\n",
            "siya ang nagwagi sa patimpalak na iyon.\n",
            "ang aking kapatid ay nag-aral nang mabuti para sa eksamen.\n",
            "naglakad siya sa ilalim ng ulan.\n",
            "magaling mag-basketball si michael.\n",
            "sumayaw si sarah sa entablado.\n",
            "inawit niya ang kanyang paboritong kanta.\n",
            "si ben ang pumutol ng puno sa bakuran.\n",
            "maglalaba si lola mamayang hapon.\n"
          ]
        }
      ],
      "source": [
        "# Apply the tokenize_and_lowercase function to your sentences\n",
        "lowercase_texts = df[\"SENTENCE\"].apply(tokenize_and_lowercase)\n",
        "\n",
        "# Print the lowercase texts\n",
        "for text in lowercase_texts [:10]:\n",
        "    print(text)"
      ]
    },
    {
      "cell_type": "code",
      "execution_count": null,
      "metadata": {
        "colab": {
          "base_uri": "https://localhost:8080/"
        },
        "id": "F9JLMvDykhgC",
        "outputId": "18490168-b89b-4d58-f685-ca52eb6eaf90"
      },
      "outputs": [
        {
          "output_type": "execute_result",
          "data": {
            "text/plain": [
              "0        [101, 126, 12496, 296, 118, 14430, 20286, 104,...\n",
              "1        [101, 6114, 9632, 296, 126, 3062, 154, 140, 10...\n",
              "2        [101, 411, 105, 14430, 2476, 13757, 107, 643, ...\n",
              "3        [101, 105, 16515, 19943, 118, 14430, 30031, 74...\n",
              "4        [101, 14430, 13836, 411, 107, 2575, 104, 854, ...\n",
              "                               ...                        \n",
              "94521    [101, 14430, 30031, 6799, 105, 11167, 1958, 10...\n",
              "94522    [101, 9734, 6125, 296, 105, 17866, 962, 16589,...\n",
              "94523    [101, 14430, 30031, 4987, 105, 30015, 268, 316...\n",
              "94524    [101, 13255, 9130, 1846, 105, 30015, 268, 6345...\n",
              "94525    [101, 14430, 30031, 6799, 105, 1611, 3822, 107...\n",
              "Name: SENTENCE, Length: 94526, dtype: object"
            ]
          },
          "metadata": {},
          "execution_count": 12
        }
      ],
      "source": [
        "tokenized"
      ]
    },
    {
      "cell_type": "code",
      "execution_count": null,
      "metadata": {
        "colab": {
          "base_uri": "https://localhost:8080/"
        },
        "id": "gZQQc9K6lcZg",
        "outputId": "48181584-8412-48fd-f84b-47dad1819240"
      },
      "outputs": [
        {
          "output_type": "execute_result",
          "data": {
            "text/plain": [
              "tensor([[  101,   126, 12496,  ...,     0,     0,     0],\n",
              "        [  101,  6114,  9632,  ...,     0,     0,     0],\n",
              "        [  101,   411,   105,  ...,     0,     0,     0],\n",
              "        ...,\n",
              "        [  101, 14430, 30031,  ...,     0,     0,     0],\n",
              "        [  101, 13255,  9130,  ...,     0,     0,     0],\n",
              "        [  101, 14430, 30031,  ...,     0,     0,     0]])"
            ]
          },
          "metadata": {},
          "execution_count": 13
        }
      ],
      "source": [
        "padded"
      ]
    },
    {
      "cell_type": "code",
      "execution_count": null,
      "metadata": {
        "id": "wF5QuLUFmVRf"
      },
      "outputs": [],
      "source": [
        "#@title Encode labels as integers\n",
        "label_to_index = {\n",
        "    \"POKUS SA TAGAGANAP\": 0,\n",
        "    \"POKUS SA LAYON\": 1,\n",
        "    \"POKUS SA GANAPAN\": 2,\n",
        "    \"POKUS SA TAGATANGGAP\": 3,\n",
        "    \"POKUS SA KAGAMITAN\": 4,\n",
        "    \"POKUS SA SANHI\": 5,\n",
        "    \"POKUS SA DIREKSYON\": 6\n",
        "}\n",
        "\n",
        "df[\"label\"] = df[\"POKUS NG PANDIWA\"].map(label_to_index)"
      ]
    },
    {
      "cell_type": "code",
      "execution_count": null,
      "metadata": {
        "colab": {
          "base_uri": "https://localhost:8080/",
          "height": 501
        },
        "id": "Fb3SP21FpIuf",
        "outputId": "d4ba1a47-0edc-4cb5-8bba-cf95636d7e97"
      },
      "outputs": [
        {
          "output_type": "execute_result",
          "data": {
            "text/plain": [
              "   Unnamed: 0                                           SENTENCE  \\\n",
              "0           0           Si Maria ay nagluto ng masarap na adobo.   \n",
              "1           1                  Kumanta si John sa kasal kahapon.   \n",
              "2           2            Siya ang nagwagi sa patimpalak na iyon.   \n",
              "3           3  Ang aking kapatid ay nag-aral nang mabuti para...   \n",
              "4           4                   Naglakad siya sa ilalim ng ulan.   \n",
              "\n",
              "     POKUS NG PANDIWA  count  label  \\\n",
              "0  POKUS SA TAGAGANAP      8      0   \n",
              "1  POKUS SA TAGAGANAP      6      0   \n",
              "2  POKUS SA TAGAGANAP      7      0   \n",
              "3  POKUS SA TAGAGANAP     10      0   \n",
              "4  POKUS SA TAGAGANAP      6      0   \n",
              "\n",
              "                                   Modified_Entities  \\\n",
              "0  [{'Entity': 'DTP', 'Word': 'si'}, {'Entity': '...   \n",
              "1  [{'Entity': 'VBAF', 'Word': 'kumanta'}, {'Enti...   \n",
              "2  [{'Entity': 'PRS', 'Word': 'siya'}, {'Entity':...   \n",
              "3  [{'Entity': 'DTC', 'Word': 'ang'}, {'Entity': ...   \n",
              "4  [{'Entity': 'VBTS', 'Word': 'naglakad'}, {'Ent...   \n",
              "\n",
              "                                   Modified_Sentence  \\\n",
              "0          si maria ay nagluto ng masarap na adobo .   \n",
              "1                 kumanta si john sa kasal kahapon .   \n",
              "2           siya ang nagwagi sa patimpalak na iyon .   \n",
              "3  ang aking kapatid ay nag-aral nang mabuti para...   \n",
              "4                  naglakad siya sa ilalim ng ulan .   \n",
              "\n",
              "                            Modified_Unique_Entities  \\\n",
              "0  [{'Entity': 'DTP', 'Word': 'si'}, {'Entity': '...   \n",
              "1  [{'Entity': 'VBAF', 'Word': 'kumanta'}, {'Enti...   \n",
              "2  [{'Entity': 'PRS', 'Word': 'siya'}, {'Entity':...   \n",
              "3  [{'Entity': 'DTC', 'Word': 'ang'}, {'Entity': ...   \n",
              "4  [{'Entity': 'VBTS', 'Word': 'naglakad'}, {'Ent...   \n",
              "\n",
              "                                   Pandiwa_Entities  \\\n",
              "0           [{'Entity': 'VBTR', 'Word': 'nagluto'}]   \n",
              "1           [{'Entity': 'VBAF', 'Word': 'kumanta'}]   \n",
              "2           [{'Entity': 'VBTS', 'Word': 'nagwagi'}]   \n",
              "3  [{'Entity': 'VBTS_CCB_VBW', 'Word': 'nag-aral'}]   \n",
              "4          [{'Entity': 'VBTS', 'Word': 'naglakad'}]   \n",
              "\n",
              "                             Unique_Pandiwa_Entities  \\\n",
              "0            [{'Entity': 'VBTR', 'Word': 'nagluto'}]   \n",
              "1            [{'Entity': 'VBAF', 'Word': 'kumanta'}]   \n",
              "2            [{'Entity': 'VBTS', 'Word': 'nagwagi'}]   \n",
              "3  [{'Entity': 'VBTS', 'Word': 'nag-aral'}, {'Ent...   \n",
              "4           [{'Entity': 'VBTS', 'Word': 'naglakad'}]   \n",
              "\n",
              "                            Tagged_Modified_Sentence  \n",
              "0  si maria ay PANDIWA: nagluto ng masarap na ado...  \n",
              "1        PANDIWA: kumanta si john sa kasal kahapon .  \n",
              "2  siya ang PANDIWA: nagwagi sa patimpalak na iyon .  \n",
              "3  ang aking kapatid ay PANDIWA: nag-aral nang ma...  \n",
              "4         PANDIWA: naglakad siya sa ilalim ng ulan .  "
            ],
            "text/html": [
              "\n",
              "  <div id=\"df-45517ad9-9c6a-4d1f-8b57-e6d1997d1bd2\" class=\"colab-df-container\">\n",
              "    <div>\n",
              "<style scoped>\n",
              "    .dataframe tbody tr th:only-of-type {\n",
              "        vertical-align: middle;\n",
              "    }\n",
              "\n",
              "    .dataframe tbody tr th {\n",
              "        vertical-align: top;\n",
              "    }\n",
              "\n",
              "    .dataframe thead th {\n",
              "        text-align: right;\n",
              "    }\n",
              "</style>\n",
              "<table border=\"1\" class=\"dataframe\">\n",
              "  <thead>\n",
              "    <tr style=\"text-align: right;\">\n",
              "      <th></th>\n",
              "      <th>Unnamed: 0</th>\n",
              "      <th>SENTENCE</th>\n",
              "      <th>POKUS NG PANDIWA</th>\n",
              "      <th>count</th>\n",
              "      <th>label</th>\n",
              "      <th>Modified_Entities</th>\n",
              "      <th>Modified_Sentence</th>\n",
              "      <th>Modified_Unique_Entities</th>\n",
              "      <th>Pandiwa_Entities</th>\n",
              "      <th>Unique_Pandiwa_Entities</th>\n",
              "      <th>Tagged_Modified_Sentence</th>\n",
              "    </tr>\n",
              "  </thead>\n",
              "  <tbody>\n",
              "    <tr>\n",
              "      <th>0</th>\n",
              "      <td>0</td>\n",
              "      <td>Si Maria ay nagluto ng masarap na adobo.</td>\n",
              "      <td>POKUS SA TAGAGANAP</td>\n",
              "      <td>8</td>\n",
              "      <td>0</td>\n",
              "      <td>[{'Entity': 'DTP', 'Word': 'si'}, {'Entity': '...</td>\n",
              "      <td>si maria ay nagluto ng masarap na adobo .</td>\n",
              "      <td>[{'Entity': 'DTP', 'Word': 'si'}, {'Entity': '...</td>\n",
              "      <td>[{'Entity': 'VBTR', 'Word': 'nagluto'}]</td>\n",
              "      <td>[{'Entity': 'VBTR', 'Word': 'nagluto'}]</td>\n",
              "      <td>si maria ay PANDIWA: nagluto ng masarap na ado...</td>\n",
              "    </tr>\n",
              "    <tr>\n",
              "      <th>1</th>\n",
              "      <td>1</td>\n",
              "      <td>Kumanta si John sa kasal kahapon.</td>\n",
              "      <td>POKUS SA TAGAGANAP</td>\n",
              "      <td>6</td>\n",
              "      <td>0</td>\n",
              "      <td>[{'Entity': 'VBAF', 'Word': 'kumanta'}, {'Enti...</td>\n",
              "      <td>kumanta si john sa kasal kahapon .</td>\n",
              "      <td>[{'Entity': 'VBAF', 'Word': 'kumanta'}, {'Enti...</td>\n",
              "      <td>[{'Entity': 'VBAF', 'Word': 'kumanta'}]</td>\n",
              "      <td>[{'Entity': 'VBAF', 'Word': 'kumanta'}]</td>\n",
              "      <td>PANDIWA: kumanta si john sa kasal kahapon .</td>\n",
              "    </tr>\n",
              "    <tr>\n",
              "      <th>2</th>\n",
              "      <td>2</td>\n",
              "      <td>Siya ang nagwagi sa patimpalak na iyon.</td>\n",
              "      <td>POKUS SA TAGAGANAP</td>\n",
              "      <td>7</td>\n",
              "      <td>0</td>\n",
              "      <td>[{'Entity': 'PRS', 'Word': 'siya'}, {'Entity':...</td>\n",
              "      <td>siya ang nagwagi sa patimpalak na iyon .</td>\n",
              "      <td>[{'Entity': 'PRS', 'Word': 'siya'}, {'Entity':...</td>\n",
              "      <td>[{'Entity': 'VBTS', 'Word': 'nagwagi'}]</td>\n",
              "      <td>[{'Entity': 'VBTS', 'Word': 'nagwagi'}]</td>\n",
              "      <td>siya ang PANDIWA: nagwagi sa patimpalak na iyon .</td>\n",
              "    </tr>\n",
              "    <tr>\n",
              "      <th>3</th>\n",
              "      <td>3</td>\n",
              "      <td>Ang aking kapatid ay nag-aral nang mabuti para...</td>\n",
              "      <td>POKUS SA TAGAGANAP</td>\n",
              "      <td>10</td>\n",
              "      <td>0</td>\n",
              "      <td>[{'Entity': 'DTC', 'Word': 'ang'}, {'Entity': ...</td>\n",
              "      <td>ang aking kapatid ay nag-aral nang mabuti para...</td>\n",
              "      <td>[{'Entity': 'DTC', 'Word': 'ang'}, {'Entity': ...</td>\n",
              "      <td>[{'Entity': 'VBTS_CCB_VBW', 'Word': 'nag-aral'}]</td>\n",
              "      <td>[{'Entity': 'VBTS', 'Word': 'nag-aral'}, {'Ent...</td>\n",
              "      <td>ang aking kapatid ay PANDIWA: nag-aral nang ma...</td>\n",
              "    </tr>\n",
              "    <tr>\n",
              "      <th>4</th>\n",
              "      <td>4</td>\n",
              "      <td>Naglakad siya sa ilalim ng ulan.</td>\n",
              "      <td>POKUS SA TAGAGANAP</td>\n",
              "      <td>6</td>\n",
              "      <td>0</td>\n",
              "      <td>[{'Entity': 'VBTS', 'Word': 'naglakad'}, {'Ent...</td>\n",
              "      <td>naglakad siya sa ilalim ng ulan .</td>\n",
              "      <td>[{'Entity': 'VBTS', 'Word': 'naglakad'}, {'Ent...</td>\n",
              "      <td>[{'Entity': 'VBTS', 'Word': 'naglakad'}]</td>\n",
              "      <td>[{'Entity': 'VBTS', 'Word': 'naglakad'}]</td>\n",
              "      <td>PANDIWA: naglakad siya sa ilalim ng ulan .</td>\n",
              "    </tr>\n",
              "  </tbody>\n",
              "</table>\n",
              "</div>\n",
              "    <div class=\"colab-df-buttons\">\n",
              "\n",
              "  <div class=\"colab-df-container\">\n",
              "    <button class=\"colab-df-convert\" onclick=\"convertToInteractive('df-45517ad9-9c6a-4d1f-8b57-e6d1997d1bd2')\"\n",
              "            title=\"Convert this dataframe to an interactive table.\"\n",
              "            style=\"display:none;\">\n",
              "\n",
              "  <svg xmlns=\"http://www.w3.org/2000/svg\" height=\"24px\" viewBox=\"0 -960 960 960\">\n",
              "    <path d=\"M120-120v-720h720v720H120Zm60-500h600v-160H180v160Zm220 220h160v-160H400v160Zm0 220h160v-160H400v160ZM180-400h160v-160H180v160Zm440 0h160v-160H620v160ZM180-180h160v-160H180v160Zm440 0h160v-160H620v160Z\"/>\n",
              "  </svg>\n",
              "    </button>\n",
              "\n",
              "  <style>\n",
              "    .colab-df-container {\n",
              "      display:flex;\n",
              "      gap: 12px;\n",
              "    }\n",
              "\n",
              "    .colab-df-convert {\n",
              "      background-color: #E8F0FE;\n",
              "      border: none;\n",
              "      border-radius: 50%;\n",
              "      cursor: pointer;\n",
              "      display: none;\n",
              "      fill: #1967D2;\n",
              "      height: 32px;\n",
              "      padding: 0 0 0 0;\n",
              "      width: 32px;\n",
              "    }\n",
              "\n",
              "    .colab-df-convert:hover {\n",
              "      background-color: #E2EBFA;\n",
              "      box-shadow: 0px 1px 2px rgba(60, 64, 67, 0.3), 0px 1px 3px 1px rgba(60, 64, 67, 0.15);\n",
              "      fill: #174EA6;\n",
              "    }\n",
              "\n",
              "    .colab-df-buttons div {\n",
              "      margin-bottom: 4px;\n",
              "    }\n",
              "\n",
              "    [theme=dark] .colab-df-convert {\n",
              "      background-color: #3B4455;\n",
              "      fill: #D2E3FC;\n",
              "    }\n",
              "\n",
              "    [theme=dark] .colab-df-convert:hover {\n",
              "      background-color: #434B5C;\n",
              "      box-shadow: 0px 1px 3px 1px rgba(0, 0, 0, 0.15);\n",
              "      filter: drop-shadow(0px 1px 2px rgba(0, 0, 0, 0.3));\n",
              "      fill: #FFFFFF;\n",
              "    }\n",
              "  </style>\n",
              "\n",
              "    <script>\n",
              "      const buttonEl =\n",
              "        document.querySelector('#df-45517ad9-9c6a-4d1f-8b57-e6d1997d1bd2 button.colab-df-convert');\n",
              "      buttonEl.style.display =\n",
              "        google.colab.kernel.accessAllowed ? 'block' : 'none';\n",
              "\n",
              "      async function convertToInteractive(key) {\n",
              "        const element = document.querySelector('#df-45517ad9-9c6a-4d1f-8b57-e6d1997d1bd2');\n",
              "        const dataTable =\n",
              "          await google.colab.kernel.invokeFunction('convertToInteractive',\n",
              "                                                    [key], {});\n",
              "        if (!dataTable) return;\n",
              "\n",
              "        const docLinkHtml = 'Like what you see? Visit the ' +\n",
              "          '<a target=\"_blank\" href=https://colab.research.google.com/notebooks/data_table.ipynb>data table notebook</a>'\n",
              "          + ' to learn more about interactive tables.';\n",
              "        element.innerHTML = '';\n",
              "        dataTable['output_type'] = 'display_data';\n",
              "        await google.colab.output.renderOutput(dataTable, element);\n",
              "        const docLink = document.createElement('div');\n",
              "        docLink.innerHTML = docLinkHtml;\n",
              "        element.appendChild(docLink);\n",
              "      }\n",
              "    </script>\n",
              "  </div>\n",
              "\n",
              "\n",
              "<div id=\"df-3edb3f4d-fe4b-41f4-839a-e75fad4d31d1\">\n",
              "  <button class=\"colab-df-quickchart\" onclick=\"quickchart('df-3edb3f4d-fe4b-41f4-839a-e75fad4d31d1')\"\n",
              "            title=\"Suggest charts\"\n",
              "            style=\"display:none;\">\n",
              "\n",
              "<svg xmlns=\"http://www.w3.org/2000/svg\" height=\"24px\"viewBox=\"0 0 24 24\"\n",
              "     width=\"24px\">\n",
              "    <g>\n",
              "        <path d=\"M19 3H5c-1.1 0-2 .9-2 2v14c0 1.1.9 2 2 2h14c1.1 0 2-.9 2-2V5c0-1.1-.9-2-2-2zM9 17H7v-7h2v7zm4 0h-2V7h2v10zm4 0h-2v-4h2v4z\"/>\n",
              "    </g>\n",
              "</svg>\n",
              "  </button>\n",
              "\n",
              "<style>\n",
              "  .colab-df-quickchart {\n",
              "      --bg-color: #E8F0FE;\n",
              "      --fill-color: #1967D2;\n",
              "      --hover-bg-color: #E2EBFA;\n",
              "      --hover-fill-color: #174EA6;\n",
              "      --disabled-fill-color: #AAA;\n",
              "      --disabled-bg-color: #DDD;\n",
              "  }\n",
              "\n",
              "  [theme=dark] .colab-df-quickchart {\n",
              "      --bg-color: #3B4455;\n",
              "      --fill-color: #D2E3FC;\n",
              "      --hover-bg-color: #434B5C;\n",
              "      --hover-fill-color: #FFFFFF;\n",
              "      --disabled-bg-color: #3B4455;\n",
              "      --disabled-fill-color: #666;\n",
              "  }\n",
              "\n",
              "  .colab-df-quickchart {\n",
              "    background-color: var(--bg-color);\n",
              "    border: none;\n",
              "    border-radius: 50%;\n",
              "    cursor: pointer;\n",
              "    display: none;\n",
              "    fill: var(--fill-color);\n",
              "    height: 32px;\n",
              "    padding: 0;\n",
              "    width: 32px;\n",
              "  }\n",
              "\n",
              "  .colab-df-quickchart:hover {\n",
              "    background-color: var(--hover-bg-color);\n",
              "    box-shadow: 0 1px 2px rgba(60, 64, 67, 0.3), 0 1px 3px 1px rgba(60, 64, 67, 0.15);\n",
              "    fill: var(--button-hover-fill-color);\n",
              "  }\n",
              "\n",
              "  .colab-df-quickchart-complete:disabled,\n",
              "  .colab-df-quickchart-complete:disabled:hover {\n",
              "    background-color: var(--disabled-bg-color);\n",
              "    fill: var(--disabled-fill-color);\n",
              "    box-shadow: none;\n",
              "  }\n",
              "\n",
              "  .colab-df-spinner {\n",
              "    border: 2px solid var(--fill-color);\n",
              "    border-color: transparent;\n",
              "    border-bottom-color: var(--fill-color);\n",
              "    animation:\n",
              "      spin 1s steps(1) infinite;\n",
              "  }\n",
              "\n",
              "  @keyframes spin {\n",
              "    0% {\n",
              "      border-color: transparent;\n",
              "      border-bottom-color: var(--fill-color);\n",
              "      border-left-color: var(--fill-color);\n",
              "    }\n",
              "    20% {\n",
              "      border-color: transparent;\n",
              "      border-left-color: var(--fill-color);\n",
              "      border-top-color: var(--fill-color);\n",
              "    }\n",
              "    30% {\n",
              "      border-color: transparent;\n",
              "      border-left-color: var(--fill-color);\n",
              "      border-top-color: var(--fill-color);\n",
              "      border-right-color: var(--fill-color);\n",
              "    }\n",
              "    40% {\n",
              "      border-color: transparent;\n",
              "      border-right-color: var(--fill-color);\n",
              "      border-top-color: var(--fill-color);\n",
              "    }\n",
              "    60% {\n",
              "      border-color: transparent;\n",
              "      border-right-color: var(--fill-color);\n",
              "    }\n",
              "    80% {\n",
              "      border-color: transparent;\n",
              "      border-right-color: var(--fill-color);\n",
              "      border-bottom-color: var(--fill-color);\n",
              "    }\n",
              "    90% {\n",
              "      border-color: transparent;\n",
              "      border-bottom-color: var(--fill-color);\n",
              "    }\n",
              "  }\n",
              "</style>\n",
              "\n",
              "  <script>\n",
              "    async function quickchart(key) {\n",
              "      const quickchartButtonEl =\n",
              "        document.querySelector('#' + key + ' button');\n",
              "      quickchartButtonEl.disabled = true;  // To prevent multiple clicks.\n",
              "      quickchartButtonEl.classList.add('colab-df-spinner');\n",
              "      try {\n",
              "        const charts = await google.colab.kernel.invokeFunction(\n",
              "            'suggestCharts', [key], {});\n",
              "      } catch (error) {\n",
              "        console.error('Error during call to suggestCharts:', error);\n",
              "      }\n",
              "      quickchartButtonEl.classList.remove('colab-df-spinner');\n",
              "      quickchartButtonEl.classList.add('colab-df-quickchart-complete');\n",
              "    }\n",
              "    (() => {\n",
              "      let quickchartButtonEl =\n",
              "        document.querySelector('#df-3edb3f4d-fe4b-41f4-839a-e75fad4d31d1 button');\n",
              "      quickchartButtonEl.style.display =\n",
              "        google.colab.kernel.accessAllowed ? 'block' : 'none';\n",
              "    })();\n",
              "  </script>\n",
              "</div>\n",
              "    </div>\n",
              "  </div>\n"
            ]
          },
          "metadata": {},
          "execution_count": 15
        }
      ],
      "source": [
        "df.head()"
      ]
    },
    {
      "cell_type": "code",
      "execution_count": null,
      "metadata": {
        "id": "b0PJE7Gzpr13"
      },
      "outputs": [],
      "source": [
        "import tensorflow as tf\n",
        "from torch.utils.data import TensorDataset, DataLoader, RandomSampler, SequentialSampler\n",
        "import torch"
      ]
    },
    {
      "cell_type": "code",
      "execution_count": null,
      "metadata": {
        "id": "LA9bOSr6pPsa"
      },
      "outputs": [],
      "source": [
        "labels = torch.tensor(df[\"label\"])\n",
        "dataset = TensorDataset(padded, labels)"
      ]
    },
    {
      "cell_type": "code",
      "execution_count": null,
      "metadata": {
        "colab": {
          "base_uri": "https://localhost:8080/"
        },
        "id": "0FFTexGUpeZG",
        "outputId": "910b348d-b180-4142-caef-30fbd4945bf4"
      },
      "outputs": [
        {
          "output_type": "execute_result",
          "data": {
            "text/plain": [
              "tensor([0, 0, 0,  ..., 6, 6, 6])"
            ]
          },
          "metadata": {},
          "execution_count": 18
        }
      ],
      "source": [
        "labels"
      ]
    },
    {
      "cell_type": "code",
      "execution_count": null,
      "metadata": {
        "colab": {
          "base_uri": "https://localhost:8080/"
        },
        "id": "XZpt0HYXpypm",
        "outputId": "4e8ed976-3d4b-4f5d-eaa9-dc2f0f3f58e9"
      },
      "outputs": [
        {
          "output_type": "execute_result",
          "data": {
            "text/plain": [
              "tensor([[  101,   126, 12496,  ...,     0,     0,     0],\n",
              "        [  101,  6114,  9632,  ...,     0,     0,     0],\n",
              "        [  101,   411,   105,  ...,     0,     0,     0],\n",
              "        ...,\n",
              "        [  101, 14430, 30031,  ...,     0,     0,     0],\n",
              "        [  101, 13255,  9130,  ...,     0,     0,     0],\n",
              "        [  101, 14430, 30031,  ...,     0,     0,     0]])"
            ]
          },
          "metadata": {},
          "execution_count": 19
        }
      ],
      "source": [
        "padded"
      ]
    },
    {
      "cell_type": "code",
      "execution_count": null,
      "metadata": {
        "colab": {
          "base_uri": "https://localhost:8080/"
        },
        "id": "RPVGi4ffpu5j",
        "outputId": "d132b6ab-3cda-4005-bfe9-76c5ac131605"
      },
      "outputs": [
        {
          "output_type": "execute_result",
          "data": {
            "text/plain": [
              "<torch.utils.data.dataset.TensorDataset at 0x7bffe26590f0>"
            ]
          },
          "metadata": {},
          "execution_count": 20
        }
      ],
      "source": [
        "dataset"
      ]
    },
    {
      "cell_type": "markdown",
      "metadata": {
        "id": "IZMZFerbrDWo"
      },
      "source": [
        "## TRAIN SPLIT"
      ]
    },
    {
      "cell_type": "code",
      "execution_count": null,
      "metadata": {
        "colab": {
          "base_uri": "https://localhost:8080/"
        },
        "id": "FB-SrdyYpwjG",
        "outputId": "1bf82d40-a838-472b-8226-f45bb4f58a3c"
      },
      "outputs": [
        {
          "output_type": "stream",
          "name": "stdout",
          "text": [
            "Training dataset size: 56715\n",
            "Validation dataset size: 18905\n",
            "Test dataset size: 18906\n"
          ]
        }
      ],
      "source": [
        "from sklearn.model_selection import train_test_split\n",
        "\n",
        "#@title Define the proportions for training, validation, and test sets\n",
        "train_size = 0.6  # 60% for training\n",
        "val_size = 0.2    # 20% for validation\n",
        "test_size = 0.2   # 20% for testing\n",
        "\n",
        "# Split the data into training, validation, and test sets\n",
        "train_dataset, temp_dataset = train_test_split(dataset, test_size=(1 - train_size), random_state=42)\n",
        "val_dataset, test_dataset = train_test_split(temp_dataset, test_size=(test_size / (test_size + val_size)), random_state=42)\n",
        "\n",
        "# Print the sizes of the datasets\n",
        "print(\"Training dataset size:\", len(train_dataset))\n",
        "print(\"Validation dataset size:\", len(val_dataset))\n",
        "print(\"Test dataset size:\", len(test_dataset))\n"
      ]
    },
    {
      "cell_type": "markdown",
      "metadata": {
        "id": "Df3iExd6rVFW"
      },
      "source": [
        "## MODELING"
      ]
    },
    {
      "cell_type": "code",
      "execution_count": null,
      "metadata": {
        "colab": {
          "base_uri": "https://localhost:8080/",
          "height": 104,
          "referenced_widgets": [
            "ac2abbe881474b10af62b8650450325c",
            "dfdc20a52c81430aad4f598bcaacf914",
            "2e2d5b8f950349939c75e83ae1c05a0a",
            "6ca46559bfd54a5d9be44022f933a4b6",
            "dd8acd2037fc49a4b2b10ee0254ed0a0",
            "65a335a1b44d4bd3b161365815ce835e",
            "e956368ade1c4c1191dd3d908a09f268",
            "8b8e1e3791bd41bf925409d401e23d8c",
            "a6900b34cdfc4fcdae6abc59e966f849",
            "e9ac6f139c2c43bdb5078058fdd355d3",
            "91aaad16f72945fca3a20dbe5a7b4938"
          ]
        },
        "id": "i7Xg3bO9q1RY",
        "outputId": "d38707b0-f61c-4580-cc43-ff8f4aa56c7b"
      },
      "outputs": [
        {
          "output_type": "display_data",
          "data": {
            "text/plain": [
              "pytorch_model.bin:   0%|          | 0.00/267M [00:00<?, ?B/s]"
            ],
            "application/vnd.jupyter.widget-view+json": {
              "version_major": 2,
              "version_minor": 0,
              "model_id": "ac2abbe881474b10af62b8650450325c"
            }
          },
          "metadata": {}
        },
        {
          "output_type": "stream",
          "name": "stderr",
          "text": [
            "Some weights of DistilBertForSequenceClassification were not initialized from the model checkpoint at jcblaise/distilbert-tagalog-base-cased and are newly initialized: ['pre_classifier.weight', 'pre_classifier.bias', 'classifier.weight', 'classifier.bias']\n",
            "You should probably TRAIN this model on a down-stream task to be able to use it for predictions and inference.\n"
          ]
        }
      ],
      "source": [
        "#@title Initialize the model\n",
        "num_classes = 7  # Number of classes\n",
        "model = DistilBertForSequenceClassification.from_pretrained(\"jcblaise/distilbert-tagalog-base-cased\", num_labels=num_classes)"
      ]
    },
    {
      "cell_type": "code",
      "execution_count": null,
      "metadata": {
        "id": "NwIo57NNrTTE"
      },
      "outputs": [],
      "source": [
        "#@title Set up data loaders\n",
        "\n",
        "# Define your batch size\n",
        "batch_size = 64\n",
        "\n",
        "\n",
        "train_dataloader = DataLoader(train_dataset, batch_size=batch_size, shuffle=True)\n",
        "val_dataloader = DataLoader(val_dataset, batch_size=batch_size)\n",
        "test_dataloader = DataLoader(test_dataset, batch_size=batch_size)"
      ]
    },
    {
      "cell_type": "code",
      "execution_count": null,
      "metadata": {
        "id": "37v9OsL2s5fq"
      },
      "outputs": [],
      "source": [
        "# ADDITIONAL IMPORT WILL COMPILE LATER\n",
        "import numpy as np\n",
        "import torch\n",
        "import torch.optim as optim\n",
        "from sklearn.model_selection import train_test_split\n",
        "import matplotlib.pyplot as plt"
      ]
    },
    {
      "cell_type": "code",
      "execution_count": null,
      "metadata": {
        "id": "FXZx7Ot0sszm"
      },
      "outputs": [],
      "source": [
        "#@title Define optimizer and loss function\n",
        "optimizer = optim.AdamW(model.parameters(), lr=2e-5)\n",
        "criterion = torch.nn.CrossEntropyLoss()"
      ]
    },
    {
      "cell_type": "code",
      "execution_count": null,
      "metadata": {
        "id": "2HtRP3H5s08Q"
      },
      "outputs": [],
      "source": [
        "# Lists to store training and validation losses for each epoch\n",
        "train_losses = []\n",
        "val_losses = []\n",
        "test_losses = []"
      ]
    },
    {
      "cell_type": "code",
      "execution_count": null,
      "metadata": {
        "colab": {
          "base_uri": "https://localhost:8080/"
        },
        "id": "-ZcJexCgtkVX",
        "outputId": "1b28813a-4f37-4a71-9b6c-9deb6522b6c9"
      },
      "outputs": [
        {
          "output_type": "execute_result",
          "data": {
            "text/plain": [
              "DistilBertForSequenceClassification(\n",
              "  (distilbert): DistilBertModel(\n",
              "    (embeddings): Embeddings(\n",
              "      (word_embeddings): Embedding(30101, 768, padding_idx=0)\n",
              "      (position_embeddings): Embedding(512, 768)\n",
              "      (LayerNorm): LayerNorm((768,), eps=1e-12, elementwise_affine=True)\n",
              "      (dropout): Dropout(p=0.1, inplace=False)\n",
              "    )\n",
              "    (transformer): Transformer(\n",
              "      (layer): ModuleList(\n",
              "        (0-5): 6 x TransformerBlock(\n",
              "          (attention): MultiHeadSelfAttention(\n",
              "            (dropout): Dropout(p=0.1, inplace=False)\n",
              "            (q_lin): Linear(in_features=768, out_features=768, bias=True)\n",
              "            (k_lin): Linear(in_features=768, out_features=768, bias=True)\n",
              "            (v_lin): Linear(in_features=768, out_features=768, bias=True)\n",
              "            (out_lin): Linear(in_features=768, out_features=768, bias=True)\n",
              "          )\n",
              "          (sa_layer_norm): LayerNorm((768,), eps=1e-12, elementwise_affine=True)\n",
              "          (ffn): FFN(\n",
              "            (dropout): Dropout(p=0.1, inplace=False)\n",
              "            (lin1): Linear(in_features=768, out_features=3072, bias=True)\n",
              "            (lin2): Linear(in_features=3072, out_features=768, bias=True)\n",
              "            (activation): GELUActivation()\n",
              "          )\n",
              "          (output_layer_norm): LayerNorm((768,), eps=1e-12, elementwise_affine=True)\n",
              "        )\n",
              "      )\n",
              "    )\n",
              "  )\n",
              "  (pre_classifier): Linear(in_features=768, out_features=768, bias=True)\n",
              "  (classifier): Linear(in_features=768, out_features=7, bias=True)\n",
              "  (dropout): Dropout(p=0.2, inplace=False)\n",
              ")"
            ]
          },
          "metadata": {},
          "execution_count": 27
        }
      ],
      "source": [
        "#@title Training loop\n",
        "device = torch.device(\"cuda\" if torch.cuda.is_available() else \"cpu\")\n",
        "model.to(device)\n",
        "model.train()"
      ]
    },
    {
      "cell_type": "markdown",
      "metadata": {
        "id": "pADsIfdpttNA"
      },
      "source": [
        "## TRAINING THE MODEL"
      ]
    },
    {
      "cell_type": "code",
      "execution_count": null,
      "metadata": {
        "id": "vYiWn_37tnKp"
      },
      "outputs": [],
      "source": [
        "epochs = 3  # Number of training epochs"
      ]
    },
    {
      "cell_type": "code",
      "execution_count": null,
      "metadata": {
        "colab": {
          "base_uri": "https://localhost:8080/"
        },
        "id": "UoZG3NBruAk-",
        "outputId": "0d6fdf01-d37b-4c60-d700-aa2f71eeefe5"
      },
      "outputs": [
        {
          "output_type": "stream",
          "name": "stderr",
          "text": [
            "We strongly recommend passing in an `attention_mask` since your input_ids may be padded. See https://huggingface.co/docs/transformers/troubleshooting#incorrect-output-when-padding-tokens-arent-masked.\n"
          ]
        },
        {
          "output_type": "stream",
          "name": "stdout",
          "text": [
            "Epoch 1/3 - Training Loss: 0.7812 - Validation Loss: 0.5346 - Test Loss: 0.5268\n",
            "Epoch 2/3 - Training Loss: 0.5019 - Validation Loss: 0.4727 - Test Loss: 0.4697\n",
            "Epoch 3/3 - Training Loss: 0.4185 - Validation Loss: 0.4260 - Test Loss: 0.4172\n"
          ]
        }
      ],
      "source": [
        "for epoch in range(epochs):\n",
        "    # Training\n",
        "    model.train()\n",
        "    total_train_loss = 0\n",
        "    for batch in train_dataloader:\n",
        "        inputs, labels = batch\n",
        "        inputs, labels = inputs.to(device), labels.to(device)\n",
        "        optimizer.zero_grad()\n",
        "        outputs = model(inputs, labels=labels)\n",
        "        train_loss = outputs.loss\n",
        "        total_train_loss += train_loss.item()\n",
        "        train_loss.backward()\n",
        "        optimizer.step()\n",
        "\n",
        "    # Calculate the average training loss for this epoch\n",
        "    average_train_loss = total_train_loss / len(train_dataloader)\n",
        "    train_losses.append(average_train_loss)\n",
        "\n",
        "    # Validation\n",
        "    model.eval()\n",
        "    total_val_loss = 0\n",
        "    with torch.no_grad():\n",
        "        for batch in val_dataloader:\n",
        "            inputs, labels = batch\n",
        "            inputs, labels = inputs.to(device), labels.to(device)\n",
        "            outputs = model(inputs, labels=labels)\n",
        "            val_loss = outputs.loss\n",
        "            total_val_loss += val_loss.item()\n",
        "\n",
        "    # Calculate the average validation loss for this epoch\n",
        "    average_val_loss = total_val_loss / len(val_dataloader)\n",
        "    val_losses.append(average_val_loss)\n",
        "\n",
        "    # Testing\n",
        "    model.eval()\n",
        "    total_test_loss = 0\n",
        "    with torch.no_grad():\n",
        "        for batch in test_dataloader:\n",
        "            inputs, labels = batch\n",
        "            inputs, labels = inputs.to(device), labels.to(device)\n",
        "            outputs = model(inputs, labels=labels)\n",
        "            test_loss = outputs.loss\n",
        "            total_test_loss += test_loss.item()\n",
        "\n",
        "    # Calculate the average test loss for this epoch\n",
        "    average_test_loss = total_test_loss / len(test_dataloader)\n",
        "    test_losses.append(average_test_loss)\n",
        "\n",
        "    # Print training, validation, and test loss for this epoch\n",
        "    print(f\"Epoch {epoch + 1}/{epochs} - Training Loss: {average_train_loss:.4f} - Validation Loss: {average_val_loss:.4f} - Test Loss: {average_test_loss:.4f}\")\n"
      ]
    },
    {
      "cell_type": "markdown",
      "metadata": {
        "id": "anoV5oCL_DVC"
      },
      "source": [
        "## PLOT"
      ]
    },
    {
      "cell_type": "code",
      "execution_count": null,
      "metadata": {
        "id": "mJiiVu7SuCxa"
      },
      "outputs": [],
      "source": []
    },
    {
      "cell_type": "code",
      "execution_count": null,
      "metadata": {
        "id": "MiTVYBpA8Ah5",
        "colab": {
          "base_uri": "https://localhost:8080/",
          "height": 564
        },
        "outputId": "ee2ae7e1-b82d-4e5a-e975-aad1c8a5423e"
      },
      "outputs": [
        {
          "output_type": "display_data",
          "data": {
            "text/plain": [
              "<Figure size 1000x600 with 1 Axes>"
            ],
            "image/png": "[encoded data removed]"
          },
          "metadata": {}
        }
      ],
      "source": [
        "#@title Plot training, validation, and test loss\n",
        "plt.figure(figsize=(10, 6))\n",
        "plt.plot(range(1, epochs + 1), train_losses, label=\"Training Loss\", color=\"r\")\n",
        "plt.plot(range(1, epochs + 1), val_losses, label=\"Validation Loss\", color=\"g\")\n",
        "plt.plot(range(1, epochs + 1), test_losses, label=\"Test Loss\", color=\"b\")\n",
        "plt.xlabel(\"Epochs\")\n",
        "plt.ylabel(\"Loss\")\n",
        "plt.title(\"Training, Validation, and Test Loss\")\n",
        "plt.legend()\n",
        "plt.show()\n"
      ]
    },
    {
      "cell_type": "markdown",
      "metadata": {
        "id": "vvWUIAOeMVcP"
      },
      "source": [
        "The consistency between training, validation, and test losses suggests that the model has not overfit the training data and is likely to perform well on unseen data. However, it's important to remember that these results are just a part of the overall model evaluation, and other metrics and analysis should also be considered to assess the model's performance comprehensively."
      ]
    },
    {
      "cell_type": "markdown",
      "metadata": {
        "id": "9rjb3DZkR9LP"
      },
      "source": [
        "## EVALUATION"
      ]
    },
    {
      "cell_type": "code",
      "execution_count": null,
      "metadata": {
        "id": "UdAhFxK3JsKU"
      },
      "outputs": [],
      "source": [
        "from sklearn.metrics import classification_report\n"
      ]
    },
    {
      "cell_type": "code",
      "execution_count": null,
      "metadata": {
        "id": "m7V_j0nCKB3C",
        "colab": {
          "base_uri": "https://localhost:8080/"
        },
        "outputId": "12e1d1ba-24b4-4dc0-8bd7-9e7577792178"
      },
      "outputs": [
        {
          "output_type": "stream",
          "name": "stdout",
          "text": [
            "                      precision    recall  f1-score   support\n",
            "\n",
            "  POKUS SA TAGAGANAP       0.90      0.87      0.88      2713\n",
            "      POKUS SA LAYON       0.75      0.71      0.73      2716\n",
            "    POKUS SA GANAPAN       0.90      0.88      0.89      2616\n",
            "POKUS SA TAGATANGGAP       0.74      0.93      0.83      2823\n",
            "  POKUS SA KAGAMITAN       0.96      0.94      0.95      2306\n",
            "      POKUS SA SANHI       0.96      0.91      0.93      2822\n",
            "  POKUS SA DIREKSYON       0.80      0.76      0.77      2909\n",
            "\n",
            "            accuracy                           0.85     18905\n",
            "           macro avg       0.86      0.85      0.86     18905\n",
            "        weighted avg       0.86      0.85      0.85     18905\n",
            "\n"
          ]
        }
      ],
      "source": [
        "model.eval()\n",
        "all_true_labels = []\n",
        "all_predicted_labels = []\n",
        "\n",
        "with torch.no_grad():\n",
        "    for batch in val_dataloader:\n",
        "        inputs, labels = batch\n",
        "        inputs, labels = inputs.to(device), labels.to(device)\n",
        "        outputs = model(inputs, labels=labels)\n",
        "        predicted_labels = torch.argmax(outputs.logits, dim=1)\n",
        "        all_true_labels.extend(labels.cpu().numpy())\n",
        "        all_predicted_labels.extend(predicted_labels.cpu().numpy())\n",
        "\n",
        "#@title Calculate and print classification report\n",
        "classification_rep = classification_report(all_true_labels, all_predicted_labels, target_names=label_to_index.keys())\n",
        "print(classification_rep)"
      ]
    },
    {
      "cell_type": "code",
      "execution_count": null,
      "metadata": {
        "id": "Q4k4VuBhKEAr",
        "colab": {
          "base_uri": "https://localhost:8080/"
        },
        "outputId": "f5eb4245-d844-4b22-f6a8-4ad95b9f8db3"
      },
      "outputs": [
        {
          "output_type": "stream",
          "name": "stdout",
          "text": [
            "                      precision    recall  f1-score   support\n",
            "\n",
            "  POKUS SA TAGAGANAP       0.90      0.86      0.88      2741\n",
            "      POKUS SA LAYON       0.76      0.72      0.74      2774\n",
            "    POKUS SA GANAPAN       0.90      0.86      0.88      2574\n",
            "POKUS SA TAGATANGGAP       0.77      0.93      0.84      2927\n",
            "  POKUS SA KAGAMITAN       0.96      0.93      0.95      2255\n",
            "      POKUS SA SANHI       0.96      0.91      0.93      2894\n",
            "  POKUS SA DIREKSYON       0.77      0.77      0.77      2741\n",
            "\n",
            "            accuracy                           0.85     18906\n",
            "           macro avg       0.86      0.85      0.86     18906\n",
            "        weighted avg       0.86      0.85      0.85     18906\n",
            "\n"
          ]
        }
      ],
      "source": [
        "model.eval()\n",
        "all_true_labels = []\n",
        "all_predicted_labels = []\n",
        "\n",
        "with torch.no_grad():\n",
        "    for batch in test_dataloader:  # Use the test dataloader here\n",
        "        inputs, labels = batch\n",
        "        inputs, labels = inputs.to(device), labels.to(device)\n",
        "        outputs = model(inputs, labels=labels)\n",
        "        predicted_labels = torch.argmax(outputs.logits, dim=1)\n",
        "        all_true_labels.extend(labels.cpu().numpy())\n",
        "        all_predicted_labels.extend(predicted_labels.cpu().numpy())\n",
        "\n",
        "#@title Calculate and print the classification report for the test dataset\n",
        "classification_rep = classification_report(all_true_labels, all_predicted_labels, target_names=label_to_index.keys())\n",
        "print(classification_rep)\n",
        "\n"
      ]
    },
    {
      "cell_type": "code",
      "execution_count": null,
      "metadata": {
        "id": "TBJFFB1eK5Ol",
        "colab": {
          "base_uri": "https://localhost:8080/",
          "height": 726
        },
        "outputId": "442c9d4a-3238-4e81-df5f-7fcb0fc023a2"
      },
      "outputs": [
        {
          "output_type": "display_data",
          "data": {
            "text/plain": [
              "<Figure size 800x600 with 2 Axes>"
            ],
            "image/png": "[encoded data removed]"
          },
          "metadata": {}
        }
      ],
      "source": [
        "from sklearn.metrics import confusion_matrix\n",
        "import seaborn as sns\n",
        "import matplotlib.pyplot as plt\n",
        "\n",
        "#@title Calculate the confusion matrix for validation data\n",
        "confusion_matrix_val = confusion_matrix(all_true_labels, all_predicted_labels)\n",
        "\n",
        "# Create a heatmap to visualize the confusion matrix\n",
        "plt.figure(figsize=(8, 6))\n",
        "sns.heatmap(confusion_matrix_val, annot=True, fmt='d', cmap='Blues', xticklabels=label_to_index.keys(), yticklabels=label_to_index.keys())\n",
        "plt.xlabel('Predicted Labels')\n",
        "plt.ylabel('True Labels')\n",
        "plt.title('Confusion Matrix - Validation Data')\n",
        "plt.show()\n",
        "\n",
        "\n"
      ]
    },
    {
      "cell_type": "code",
      "execution_count": null,
      "metadata": {
        "id": "9PU9gT_DLJsU",
        "colab": {
          "base_uri": "https://localhost:8080/",
          "height": 726
        },
        "outputId": "5fed1e07-4cc5-4e60-fbfa-59e135747aed"
      },
      "outputs": [
        {
          "output_type": "display_data",
          "data": {
            "text/plain": [
              "<Figure size 800x600 with 2 Axes>"
            ],
            "image/png": "[encoded data removed]"
          },
          "metadata": {}
        }
      ],
      "source": [
        "from sklearn.metrics import confusion_matrix\n",
        "import seaborn as sns\n",
        "import matplotlib.pyplot as plt\n",
        "\n",
        "#@title Calculate the confusion matrix for test data\n",
        "confusion_matrix_test = confusion_matrix(all_true_labels, all_predicted_labels)\n",
        "\n",
        "# Create a heatmap to visualize the confusion matrix\n",
        "plt.figure(figsize=(8, 6))\n",
        "sns.heatmap(confusion_matrix_test, annot=True, fmt='d', cmap='Blues', xticklabels=label_to_index.keys(), yticklabels=label_to_index.keys())\n",
        "plt.xlabel('Predicted Labels')\n",
        "plt.ylabel('True Labels')\n",
        "plt.title('Confusion Matrix - Test Data')\n",
        "plt.show()\n",
        "\n"
      ]
    },
    {
      "cell_type": "code",
      "execution_count": null,
      "metadata": {
        "id": "wfn79HyH-Qfa"
      },
      "outputs": [],
      "source": [
        "torch.save({\n",
        "    'model_state_dict': model.state_dict(),\n",
        "    'tokenizer': tokenizer,\n",
        "    'label_mapping': label_to_index\n",
        "}, 'PNPCHKR_DSTLBRT.pth')\n"
      ]
    },
    {
      "cell_type": "code",
      "execution_count": null,
      "metadata": {
        "id": "6hzKguRj-RdF",
        "colab": {
          "base_uri": "https://localhost:8080/"
        },
        "outputId": "c68eb295-ca37-4429-cf0f-8d667e205dba"
      },
      "outputs": [
        {
          "output_type": "execute_result",
          "data": {
            "text/plain": [
              "DistilBertForSequenceClassification(\n",
              "  (distilbert): DistilBertModel(\n",
              "    (embeddings): Embeddings(\n",
              "      (word_embeddings): Embedding(30101, 768, padding_idx=0)\n",
              "      (position_embeddings): Embedding(512, 768)\n",
              "      (LayerNorm): LayerNorm((768,), eps=1e-12, elementwise_affine=True)\n",
              "      (dropout): Dropout(p=0.1, inplace=False)\n",
              "    )\n",
              "    (transformer): Transformer(\n",
              "      (layer): ModuleList(\n",
              "        (0-5): 6 x TransformerBlock(\n",
              "          (attention): MultiHeadSelfAttention(\n",
              "            (dropout): Dropout(p=0.1, inplace=False)\n",
              "            (q_lin): Linear(in_features=768, out_features=768, bias=True)\n",
              "            (k_lin): Linear(in_features=768, out_features=768, bias=True)\n",
              "            (v_lin): Linear(in_features=768, out_features=768, bias=True)\n",
              "            (out_lin): Linear(in_features=768, out_features=768, bias=True)\n",
              "          )\n",
              "          (sa_layer_norm): LayerNorm((768,), eps=1e-12, elementwise_affine=True)\n",
              "          (ffn): FFN(\n",
              "            (dropout): Dropout(p=0.1, inplace=False)\n",
              "            (lin1): Linear(in_features=768, out_features=3072, bias=True)\n",
              "            (lin2): Linear(in_features=3072, out_features=768, bias=True)\n",
              "            (activation): GELUActivation()\n",
              "          )\n",
              "          (output_layer_norm): LayerNorm((768,), eps=1e-12, elementwise_affine=True)\n",
              "        )\n",
              "      )\n",
              "    )\n",
              "  )\n",
              "  (pre_classifier): Linear(in_features=768, out_features=768, bias=True)\n",
              "  (classifier): Linear(in_features=768, out_features=7, bias=True)\n",
              "  (dropout): Dropout(p=0.2, inplace=False)\n",
              ")"
            ]
          },
          "metadata": {},
          "execution_count": 37
        }
      ],
      "source": [
        "checkpoint = torch.load('/content/PNPCHKR_DSTLBRT.pth')\n",
        "model.load_state_dict(checkpoint['model_state_dict'])\n",
        "tokenizer = checkpoint['tokenizer']\n",
        "label_to_index = checkpoint['label_mapping']\n",
        "\n",
        "# Set the model to evaluation mode\n",
        "model.eval()\n"
      ]
    },
    {
      "cell_type": "code",
      "execution_count": null,
      "metadata": {
        "id": "2oznyrg4Pzcp"
      },
      "outputs": [],
      "source": []
    },
    {
      "cell_type": "code",
      "execution_count": null,
      "metadata": {
        "id": "Anshc_WC-jwE",
        "colab": {
          "base_uri": "https://localhost:8080/"
        },
        "outputId": "d9526d5e-d330-453a-d8a9-9716189be150"
      },
      "outputs": [
        {
          "output_type": "stream",
          "name": "stdout",
          "text": [
            "Predicted Label: POKUS SA LAYON\n"
          ]
        }
      ],
      "source": [
        "new_sentence = \"umuulan ng malakas dahil sa bagyo\" #@param {type:\"string\"}\n",
        "encoded_sentence = tokenizer(new_sentence, return_tensors='pt', padding=True, truncation=True)\n",
        "input_ids = encoded_sentence['input_ids'].to(device)  # Send the input to the device (e.g., GPU)\n",
        "\n",
        "with torch.no_grad():\n",
        "    outputs = model(input_ids)\n",
        "    predicted_label_id = torch.argmax(outputs.logits, dim=1).item()\n",
        "\n",
        "# Convert the predicted label ID back to the label string\n",
        "predicted_label = [label for label, index in label_to_index.items() if index == predicted_label_id][0]\n",
        "\n",
        "print(f\"Predicted Label: {predicted_label}\")\n"
      ]
    },
    {
      "cell_type": "markdown",
      "metadata": {
        "id": "qu23mnrXEYnk"
      },
      "source": [
        "test"
      ]
    }
  ],
  "metadata": {
    "accelerator": "GPU",
    "colab": {
      "provenance": []
    },
    "kernelspec": {
      "display_name": "Python 3",
      "name": "python3"
    },
    "language_info": {
      "name": "python"
    },
    "widgets": {
      "application/vnd.jupyter.widget-state+json": {
        "7c4eac36502a4f53adc26716ab4e40e4": {
          "model_module": "@jupyter-widgets/controls",
          "model_name": "HBoxModel",
          "model_module_version": "1.5.0",
          "state": {
            "_dom_classes": [],
            "_model_module": "@jupyter-widgets/controls",
            "_model_module_version": "1.5.0",
            "_model_name": "HBoxModel",
            "_view_count": null,
            "_view_module": "@jupyter-widgets/controls",
            "_view_module_version": "1.5.0",
            "_view_name": "HBoxView",
            "box_style": "",
            "children": [
              "IPY_MODEL_6935df59d0a142a59f30b22ac0787485",
              "IPY_MODEL_19240925fdf24d269db15622e9917450",
              "IPY_MODEL_40d67dbde18740268c5405eb90e013d7"
            ],
            "layout": "IPY_MODEL_e3c9b851dac04de693795da8a83bd179"
          }
        },
        "6935df59d0a142a59f30b22ac0787485": {
          "model_module": "@jupyter-widgets/controls",
          "model_name": "HTMLModel",
          "model_module_version": "1.5.0",
          "state": {
            "_dom_classes": [],
            "_model_module": "@jupyter-widgets/controls",
            "_model_module_version": "1.5.0",
            "_model_name": "HTMLModel",
            "_view_count": null,
            "_view_module": "@jupyter-widgets/controls",
            "_view_module_version": "1.5.0",
            "_view_name": "HTMLView",
            "description": "",
            "description_tooltip": null,
            "layout": "IPY_MODEL_524be527825f49479ee676b303f14b54",
            "placeholder": "​",
            "style": "IPY_MODEL_58bf6a33cdde44ff9319fb17eec95698",
            "value": "tokenizer_config.json: 100%"
          }
        },
        "19240925fdf24d269db15622e9917450": {
          "model_module": "@jupyter-widgets/controls",
          "model_name": "FloatProgressModel",
          "model_module_version": "1.5.0",
          "state": {
            "_dom_classes": [],
            "_model_module": "@jupyter-widgets/controls",
            "_model_module_version": "1.5.0",
            "_model_name": "FloatProgressModel",
            "_view_count": null,
            "_view_module": "@jupyter-widgets/controls",
            "_view_module_version": "1.5.0",
            "_view_name": "ProgressView",
            "bar_style": "success",
            "description": "",
            "description_tooltip": null,
            "layout": "IPY_MODEL_f5cf313e0c694639951a9632cb344fe1",
            "max": 55,
            "min": 0,
            "orientation": "horizontal",
            "style": "IPY_MODEL_b6ae3e8d4ccb4ec0a0c86fc20531b37b",
            "value": 55
          }
        },
        "40d67dbde18740268c5405eb90e013d7": {
          "model_module": "@jupyter-widgets/controls",
          "model_name": "HTMLModel",
          "model_module_version": "1.5.0",
          "state": {
            "_dom_classes": [],
            "_model_module": "@jupyter-widgets/controls",
            "_model_module_version": "1.5.0",
            "_model_name": "HTMLModel",
            "_view_count": null,
            "_view_module": "@jupyter-widgets/controls",
            "_view_module_version": "1.5.0",
            "_view_name": "HTMLView",
            "description": "",
            "description_tooltip": null,
            "layout": "IPY_MODEL_67d243e5618641adb335dc520c56da00",
            "placeholder": "​",
            "style": "IPY_MODEL_671793738e524d10aaf86dcd5f808421",
            "value": " 55.0/55.0 [00:00&lt;00:00, 1.62kB/s]"
          }
        },
        "e3c9b851dac04de693795da8a83bd179": {
          "model_module": "@jupyter-widgets/base",
          "model_name": "LayoutModel",
          "model_module_version": "1.2.0",
          "state": {
            "_model_module": "@jupyter-widgets/base",
            "_model_module_version": "1.2.0",
            "_model_name": "LayoutModel",
            "_view_count": null,
            "_view_module": "@jupyter-widgets/base",
            "_view_module_version": "1.2.0",
            "_view_name": "LayoutView",
            "align_content": null,
            "align_items": null,
            "align_self": null,
            "border": null,
            "bottom": null,
            "display": null,
            "flex": null,
            "flex_flow": null,
            "grid_area": null,
            "grid_auto_columns": null,
            "grid_auto_flow": null,
            "grid_auto_rows": null,
            "grid_column": null,
            "grid_gap": null,
            "grid_row": null,
            "grid_template_areas": null,
            "grid_template_columns": null,
            "grid_template_rows": null,
            "height": null,
            "justify_content": null,
            "justify_items": null,
            "left": null,
            "margin": null,
            "max_height": null,
            "max_width": null,
            "min_height": null,
            "min_width": null,
            "object_fit": null,
            "object_position": null,
            "order": null,
            "overflow": null,
            "overflow_x": null,
            "overflow_y": null,
            "padding": null,
            "right": null,
            "top": null,
            "visibility": null,
            "width": null
          }
        },
        "524be527825f49479ee676b303f14b54": {
          "model_module": "@jupyter-widgets/base",
          "model_name": "LayoutModel",
          "model_module_version": "1.2.0",
          "state": {
            "_model_module": "@jupyter-widgets/base",
            "_model_module_version": "1.2.0",
            "_model_name": "LayoutModel",
            "_view_count": null,
            "_view_module": "@jupyter-widgets/base",
            "_view_module_version": "1.2.0",
            "_view_name": "LayoutView",
            "align_content": null,
            "align_items": null,
            "align_self": null,
            "border": null,
            "bottom": null,
            "display": null,
            "flex": null,
            "flex_flow": null,
            "grid_area": null,
            "grid_auto_columns": null,
            "grid_auto_flow": null,
            "grid_auto_rows": null,
            "grid_column": null,
            "grid_gap": null,
            "grid_row": null,
            "grid_template_areas": null,
            "grid_template_columns": null,
            "grid_template_rows": null,
            "height": null,
            "justify_content": null,
            "justify_items": null,
            "left": null,
            "margin": null,
            "max_height": null,
            "max_width": null,
            "min_height": null,
            "min_width": null,
            "object_fit": null,
            "object_position": null,
            "order": null,
            "overflow": null,
            "overflow_x": null,
            "overflow_y": null,
            "padding": null,
            "right": null,
            "top": null,
            "visibility": null,
            "width": null
          }
        },
        "58bf6a33cdde44ff9319fb17eec95698": {
          "model_module": "@jupyter-widgets/controls",
          "model_name": "DescriptionStyleModel",
          "model_module_version": "1.5.0",
          "state": {
            "_model_module": "@jupyter-widgets/controls",
            "_model_module_version": "1.5.0",
            "_model_name": "DescriptionStyleModel",
            "_view_count": null,
            "_view_module": "@jupyter-widgets/base",
            "_view_module_version": "1.2.0",
            "_view_name": "StyleView",
            "description_width": ""
          }
        },
        "f5cf313e0c694639951a9632cb344fe1": {
          "model_module": "@jupyter-widgets/base",
          "model_name": "LayoutModel",
          "model_module_version": "1.2.0",
          "state": {
            "_model_module": "@jupyter-widgets/base",
            "_model_module_version": "1.2.0",
            "_model_name": "LayoutModel",
            "_view_count": null,
            "_view_module": "@jupyter-widgets/base",
            "_view_module_version": "1.2.0",
            "_view_name": "LayoutView",
            "align_content": null,
            "align_items": null,
            "align_self": null,
            "border": null,
            "bottom": null,
            "display": null,
            "flex": null,
            "flex_flow": null,
            "grid_area": null,
            "grid_auto_columns": null,
            "grid_auto_flow": null,
            "grid_auto_rows": null,
            "grid_column": null,
            "grid_gap": null,
            "grid_row": null,
            "grid_template_areas": null,
            "grid_template_columns": null,
            "grid_template_rows": null,
            "height": null,
            "justify_content": null,
            "justify_items": null,
            "left": null,
            "margin": null,
            "max_height": null,
            "max_width": null,
            "min_height": null,
            "min_width": null,
            "object_fit": null,
            "object_position": null,
            "order": null,
            "overflow": null,
            "overflow_x": null,
            "overflow_y": null,
            "padding": null,
            "right": null,
            "top": null,
            "visibility": null,
            "width": null
          }
        },
        "b6ae3e8d4ccb4ec0a0c86fc20531b37b": {
          "model_module": "@jupyter-widgets/controls",
          "model_name": "ProgressStyleModel",
          "model_module_version": "1.5.0",
          "state": {
            "_model_module": "@jupyter-widgets/controls",
            "_model_module_version": "1.5.0",
            "_model_name": "ProgressStyleModel",
            "_view_count": null,
            "_view_module": "@jupyter-widgets/base",
            "_view_module_version": "1.2.0",
            "_view_name": "StyleView",
            "bar_color": null,
            "description_width": ""
          }
        },
        "67d243e5618641adb335dc520c56da00": {
          "model_module": "@jupyter-widgets/base",
          "model_name": "LayoutModel",
          "model_module_version": "1.2.0",
          "state": {
            "_model_module": "@jupyter-widgets/base",
            "_model_module_version": "1.2.0",
            "_model_name": "LayoutModel",
            "_view_count": null,
            "_view_module": "@jupyter-widgets/base",
            "_view_module_version": "1.2.0",
            "_view_name": "LayoutView",
            "align_content": null,
            "align_items": null,
            "align_self": null,
            "border": null,
            "bottom": null,
            "display": null,
            "flex": null,
            "flex_flow": null,
            "grid_area": null,
            "grid_auto_columns": null,
            "grid_auto_flow": null,
            "grid_auto_rows": null,
            "grid_column": null,
            "grid_gap": null,
            "grid_row": null,
            "grid_template_areas": null,
            "grid_template_columns": null,
            "grid_template_rows": null,
            "height": null,
            "justify_content": null,
            "justify_items": null,
            "left": null,
            "margin": null,
            "max_height": null,
            "max_width": null,
            "min_height": null,
            "min_width": null,
            "object_fit": null,
            "object_position": null,
            "order": null,
            "overflow": null,
            "overflow_x": null,
            "overflow_y": null,
            "padding": null,
            "right": null,
            "top": null,
            "visibility": null,
            "width": null
          }
        },
        "671793738e524d10aaf86dcd5f808421": {
          "model_module": "@jupyter-widgets/controls",
          "model_name": "DescriptionStyleModel",
          "model_module_version": "1.5.0",
          "state": {
            "_model_module": "@jupyter-widgets/controls",
            "_model_module_version": "1.5.0",
            "_model_name": "DescriptionStyleModel",
            "_view_count": null,
            "_view_module": "@jupyter-widgets/base",
            "_view_module_version": "1.2.0",
            "_view_name": "StyleView",
            "description_width": ""
          }
        },
        "51607a6ef8de465c96f84a334a808423": {
          "model_module": "@jupyter-widgets/controls",
          "model_name": "HBoxModel",
          "model_module_version": "1.5.0",
          "state": {
            "_dom_classes": [],
            "_model_module": "@jupyter-widgets/controls",
            "_model_module_version": "1.5.0",
            "_model_name": "HBoxModel",
            "_view_count": null,
            "_view_module": "@jupyter-widgets/controls",
            "_view_module_version": "1.5.0",
            "_view_name": "HBoxView",
            "box_style": "",
            "children": [
              "IPY_MODEL_255a97fcea424a02b804030cd52163c8",
              "IPY_MODEL_69066847336f4157afe7016e48cccaa9",
              "IPY_MODEL_f40d6caa2bba4a32be416ff14d66116b"
            ],
            "layout": "IPY_MODEL_eef4bb6f3f254877be8be8d5aa20c20b"
          }
        },
        "255a97fcea424a02b804030cd52163c8": {
          "model_module": "@jupyter-widgets/controls",
          "model_name": "HTMLModel",
          "model_module_version": "1.5.0",
          "state": {
            "_dom_classes": [],
            "_model_module": "@jupyter-widgets/controls",
            "_model_module_version": "1.5.0",
            "_model_name": "HTMLModel",
            "_view_count": null,
            "_view_module": "@jupyter-widgets/controls",
            "_view_module_version": "1.5.0",
            "_view_name": "HTMLView",
            "description": "",
            "description_tooltip": null,
            "layout": "IPY_MODEL_31ae4f61ab3b45528fcb2233c08c4cc6",
            "placeholder": "​",
            "style": "IPY_MODEL_7c15516ee7804e0db73aaa6496cd1a5c",
            "value": "vocab.txt: 100%"
          }
        },
        "69066847336f4157afe7016e48cccaa9": {
          "model_module": "@jupyter-widgets/controls",
          "model_name": "FloatProgressModel",
          "model_module_version": "1.5.0",
          "state": {
            "_dom_classes": [],
            "_model_module": "@jupyter-widgets/controls",
            "_model_module_version": "1.5.0",
            "_model_name": "FloatProgressModel",
            "_view_count": null,
            "_view_module": "@jupyter-widgets/controls",
            "_view_module_version": "1.5.0",
            "_view_name": "ProgressView",
            "bar_style": "success",
            "description": "",
            "description_tooltip": null,
            "layout": "IPY_MODEL_29ade1407ed0426681f7f03e512a045b",
            "max": 256155,
            "min": 0,
            "orientation": "horizontal",
            "style": "IPY_MODEL_b13033780bf849a9bbd634426876cd42",
            "value": 256155
          }
        },
        "f40d6caa2bba4a32be416ff14d66116b": {
          "model_module": "@jupyter-widgets/controls",
          "model_name": "HTMLModel",
          "model_module_version": "1.5.0",
          "state": {
            "_dom_classes": [],
            "_model_module": "@jupyter-widgets/controls",
            "_model_module_version": "1.5.0",
            "_model_name": "HTMLModel",
            "_view_count": null,
            "_view_module": "@jupyter-widgets/controls",
            "_view_module_version": "1.5.0",
            "_view_name": "HTMLView",
            "description": "",
            "description_tooltip": null,
            "layout": "IPY_MODEL_74f8876510bd47b6b9cd267b8babda39",
            "placeholder": "​",
            "style": "IPY_MODEL_05747d2612224157b7358dbd83e421d5",
            "value": " 256k/256k [00:00&lt;00:00, 440kB/s]"
          }
        },
        "eef4bb6f3f254877be8be8d5aa20c20b": {
          "model_module": "@jupyter-widgets/base",
          "model_name": "LayoutModel",
          "model_module_version": "1.2.0",
          "state": {
            "_model_module": "@jupyter-widgets/base",
            "_model_module_version": "1.2.0",
            "_model_name": "LayoutModel",
            "_view_count": null,
            "_view_module": "@jupyter-widgets/base",
            "_view_module_version": "1.2.0",
            "_view_name": "LayoutView",
            "align_content": null,
            "align_items": null,
            "align_self": null,
            "border": null,
            "bottom": null,
            "display": null,
            "flex": null,
            "flex_flow": null,
            "grid_area": null,
            "grid_auto_columns": null,
            "grid_auto_flow": null,
            "grid_auto_rows": null,
            "grid_column": null,
            "grid_gap": null,
            "grid_row": null,
            "grid_template_areas": null,
            "grid_template_columns": null,
            "grid_template_rows": null,
            "height": null,
            "justify_content": null,
            "justify_items": null,
            "left": null,
            "margin": null,
            "max_height": null,
            "max_width": null,
            "min_height": null,
            "min_width": null,
            "object_fit": null,
            "object_position": null,
            "order": null,
            "overflow": null,
            "overflow_x": null,
            "overflow_y": null,
            "padding": null,
            "right": null,
            "top": null,
            "visibility": null,
            "width": null
          }
        },
        "31ae4f61ab3b45528fcb2233c08c4cc6": {
          "model_module": "@jupyter-widgets/base",
          "model_name": "LayoutModel",
          "model_module_version": "1.2.0",
          "state": {
            "_model_module": "@jupyter-widgets/base",
            "_model_module_version": "1.2.0",
            "_model_name": "LayoutModel",
            "_view_count": null,
            "_view_module": "@jupyter-widgets/base",
            "_view_module_version": "1.2.0",
            "_view_name": "LayoutView",
            "align_content": null,
            "align_items": null,
            "align_self": null,
            "border": null,
            "bottom": null,
            "display": null,
            "flex": null,
            "flex_flow": null,
            "grid_area": null,
            "grid_auto_columns": null,
            "grid_auto_flow": null,
            "grid_auto_rows": null,
            "grid_column": null,
            "grid_gap": null,
            "grid_row": null,
            "grid_template_areas": null,
            "grid_template_columns": null,
            "grid_template_rows": null,
            "height": null,
            "justify_content": null,
            "justify_items": null,
            "left": null,
            "margin": null,
            "max_height": null,
            "max_width": null,
            "min_height": null,
            "min_width": null,
            "object_fit": null,
            "object_position": null,
            "order": null,
            "overflow": null,
            "overflow_x": null,
            "overflow_y": null,
            "padding": null,
            "right": null,
            "top": null,
            "visibility": null,
            "width": null
          }
        },
        "7c15516ee7804e0db73aaa6496cd1a5c": {
          "model_module": "@jupyter-widgets/controls",
          "model_name": "DescriptionStyleModel",
          "model_module_version": "1.5.0",
          "state": {
            "_model_module": "@jupyter-widgets/controls",
            "_model_module_version": "1.5.0",
            "_model_name": "DescriptionStyleModel",
            "_view_count": null,
            "_view_module": "@jupyter-widgets/base",
            "_view_module_version": "1.2.0",
            "_view_name": "StyleView",
            "description_width": ""
          }
        },
        "29ade1407ed0426681f7f03e512a045b": {
          "model_module": "@jupyter-widgets/base",
          "model_name": "LayoutModel",
          "model_module_version": "1.2.0",
          "state": {
            "_model_module": "@jupyter-widgets/base",
            "_model_module_version": "1.2.0",
            "_model_name": "LayoutModel",
            "_view_count": null,
            "_view_module": "@jupyter-widgets/base",
            "_view_module_version": "1.2.0",
            "_view_name": "LayoutView",
            "align_content": null,
            "align_items": null,
            "align_self": null,
            "border": null,
            "bottom": null,
            "display": null,
            "flex": null,
            "flex_flow": null,
            "grid_area": null,
            "grid_auto_columns": null,
            "grid_auto_flow": null,
            "grid_auto_rows": null,
            "grid_column": null,
            "grid_gap": null,
            "grid_row": null,
            "grid_template_areas": null,
            "grid_template_columns": null,
            "grid_template_rows": null,
            "height": null,
            "justify_content": null,
            "justify_items": null,
            "left": null,
            "margin": null,
            "max_height": null,
            "max_width": null,
            "min_height": null,
            "min_width": null,
            "object_fit": null,
            "object_position": null,
            "order": null,
            "overflow": null,
            "overflow_x": null,
            "overflow_y": null,
            "padding": null,
            "right": null,
            "top": null,
            "visibility": null,
            "width": null
          }
        },
        "b13033780bf849a9bbd634426876cd42": {
          "model_module": "@jupyter-widgets/controls",
          "model_name": "ProgressStyleModel",
          "model_module_version": "1.5.0",
          "state": {
            "_model_module": "@jupyter-widgets/controls",
            "_model_module_version": "1.5.0",
            "_model_name": "ProgressStyleModel",
            "_view_count": null,
            "_view_module": "@jupyter-widgets/base",
            "_view_module_version": "1.2.0",
            "_view_name": "StyleView",
            "bar_color": null,
            "description_width": ""
          }
        },
        "74f8876510bd47b6b9cd267b8babda39": {
          "model_module": "@jupyter-widgets/base",
          "model_name": "LayoutModel",
          "model_module_version": "1.2.0",
          "state": {
            "_model_module": "@jupyter-widgets/base",
            "_model_module_version": "1.2.0",
            "_model_name": "LayoutModel",
            "_view_count": null,
            "_view_module": "@jupyter-widgets/base",
            "_view_module_version": "1.2.0",
            "_view_name": "LayoutView",
            "align_content": null,
            "align_items": null,
            "align_self": null,
            "border": null,
            "bottom": null,
            "display": null,
            "flex": null,
            "flex_flow": null,
            "grid_area": null,
            "grid_auto_columns": null,
            "grid_auto_flow": null,
            "grid_auto_rows": null,
            "grid_column": null,
            "grid_gap": null,
            "grid_row": null,
            "grid_template_areas": null,
            "grid_template_columns": null,
            "grid_template_rows": null,
            "height": null,
            "justify_content": null,
            "justify_items": null,
            "left": null,
            "margin": null,
            "max_height": null,
            "max_width": null,
            "min_height": null,
            "min_width": null,
            "object_fit": null,
            "object_position": null,
            "order": null,
            "overflow": null,
            "overflow_x": null,
            "overflow_y": null,
            "padding": null,
            "right": null,
            "top": null,
            "visibility": null,
            "width": null
          }
        },
        "05747d2612224157b7358dbd83e421d5": {
          "model_module": "@jupyter-widgets/controls",
          "model_name": "DescriptionStyleModel",
          "model_module_version": "1.5.0",
          "state": {
            "_model_module": "@jupyter-widgets/controls",
            "_model_module_version": "1.5.0",
            "_model_name": "DescriptionStyleModel",
            "_view_count": null,
            "_view_module": "@jupyter-widgets/base",
            "_view_module_version": "1.2.0",
            "_view_name": "StyleView",
            "description_width": ""
          }
        },
        "861646444f944ad69360f15d045af7fe": {
          "model_module": "@jupyter-widgets/controls",
          "model_name": "HBoxModel",
          "model_module_version": "1.5.0",
          "state": {
            "_dom_classes": [],
            "_model_module": "@jupyter-widgets/controls",
            "_model_module_version": "1.5.0",
            "_model_name": "HBoxModel",
            "_view_count": null,
            "_view_module": "@jupyter-widgets/controls",
            "_view_module_version": "1.5.0",
            "_view_name": "HBoxView",
            "box_style": "",
            "children": [
              "IPY_MODEL_76b72debeb1d4b70a7eefe12cab0fd83",
              "IPY_MODEL_2f11addfad5942feb3cdd4a5ac0a1576",
              "IPY_MODEL_62d1ae1681c54374bbf48ff931440ea9"
            ],
            "layout": "IPY_MODEL_235594823a82496fb65f8322cdee880e"
          }
        },
        "76b72debeb1d4b70a7eefe12cab0fd83": {
          "model_module": "@jupyter-widgets/controls",
          "model_name": "HTMLModel",
          "model_module_version": "1.5.0",
          "state": {
            "_dom_classes": [],
            "_model_module": "@jupyter-widgets/controls",
            "_model_module_version": "1.5.0",
            "_model_name": "HTMLModel",
            "_view_count": null,
            "_view_module": "@jupyter-widgets/controls",
            "_view_module_version": "1.5.0",
            "_view_name": "HTMLView",
            "description": "",
            "description_tooltip": null,
            "layout": "IPY_MODEL_0515a13ae6ac49148dc1b638b648950a",
            "placeholder": "​",
            "style": "IPY_MODEL_d959aab975334cefac3d4177ce76066b",
            "value": "config.json: 100%"
          }
        },
        "2f11addfad5942feb3cdd4a5ac0a1576": {
          "model_module": "@jupyter-widgets/controls",
          "model_name": "FloatProgressModel",
          "model_module_version": "1.5.0",
          "state": {
            "_dom_classes": [],
            "_model_module": "@jupyter-widgets/controls",
            "_model_module_version": "1.5.0",
            "_model_name": "FloatProgressModel",
            "_view_count": null,
            "_view_module": "@jupyter-widgets/controls",
            "_view_module_version": "1.5.0",
            "_view_name": "ProgressView",
            "bar_style": "success",
            "description": "",
            "description_tooltip": null,
            "layout": "IPY_MODEL_54e29f25e5ea48bcb1d775d93abd89a3",
            "max": 1213,
            "min": 0,
            "orientation": "horizontal",
            "style": "IPY_MODEL_cc62b222a72047db9b50548ed693e9df",
            "value": 1213
          }
        },
        "62d1ae1681c54374bbf48ff931440ea9": {
          "model_module": "@jupyter-widgets/controls",
          "model_name": "HTMLModel",
          "model_module_version": "1.5.0",
          "state": {
            "_dom_classes": [],
            "_model_module": "@jupyter-widgets/controls",
            "_model_module_version": "1.5.0",
            "_model_name": "HTMLModel",
            "_view_count": null,
            "_view_module": "@jupyter-widgets/controls",
            "_view_module_version": "1.5.0",
            "_view_name": "HTMLView",
            "description": "",
            "description_tooltip": null,
            "layout": "IPY_MODEL_3d1e2ec40a414a64b655dee4d8154090",
            "placeholder": "​",
            "style": "IPY_MODEL_5d6eefdd633e41e1a7f885ee0f63a434",
            "value": " 1.21k/1.21k [00:00&lt;00:00, 49.5kB/s]"
          }
        },
        "235594823a82496fb65f8322cdee880e": {
          "model_module": "@jupyter-widgets/base",
          "model_name": "LayoutModel",
          "model_module_version": "1.2.0",
          "state": {
            "_model_module": "@jupyter-widgets/base",
            "_model_module_version": "1.2.0",
            "_model_name": "LayoutModel",
            "_view_count": null,
            "_view_module": "@jupyter-widgets/base",
            "_view_module_version": "1.2.0",
            "_view_name": "LayoutView",
            "align_content": null,
            "align_items": null,
            "align_self": null,
            "border": null,
            "bottom": null,
            "display": null,
            "flex": null,
            "flex_flow": null,
            "grid_area": null,
            "grid_auto_columns": null,
            "grid_auto_flow": null,
            "grid_auto_rows": null,
            "grid_column": null,
            "grid_gap": null,
            "grid_row": null,
            "grid_template_areas": null,
            "grid_template_columns": null,
            "grid_template_rows": null,
            "height": null,
            "justify_content": null,
            "justify_items": null,
            "left": null,
            "margin": null,
            "max_height": null,
            "max_width": null,
            "min_height": null,
            "min_width": null,
            "object_fit": null,
            "object_position": null,
            "order": null,
            "overflow": null,
            "overflow_x": null,
            "overflow_y": null,
            "padding": null,
            "right": null,
            "top": null,
            "visibility": null,
            "width": null
          }
        },
        "0515a13ae6ac49148dc1b638b648950a": {
          "model_module": "@jupyter-widgets/base",
          "model_name": "LayoutModel",
          "model_module_version": "1.2.0",
          "state": {
            "_model_module": "@jupyter-widgets/base",
            "_model_module_version": "1.2.0",
            "_model_name": "LayoutModel",
            "_view_count": null,
            "_view_module": "@jupyter-widgets/base",
            "_view_module_version": "1.2.0",
            "_view_name": "LayoutView",
            "align_content": null,
            "align_items": null,
            "align_self": null,
            "border": null,
            "bottom": null,
            "display": null,
            "flex": null,
            "flex_flow": null,
            "grid_area": null,
            "grid_auto_columns": null,
            "grid_auto_flow": null,
            "grid_auto_rows": null,
            "grid_column": null,
            "grid_gap": null,
            "grid_row": null,
            "grid_template_areas": null,
            "grid_template_columns": null,
            "grid_template_rows": null,
            "height": null,
            "justify_content": null,
            "justify_items": null,
            "left": null,
            "margin": null,
            "max_height": null,
            "max_width": null,
            "min_height": null,
            "min_width": null,
            "object_fit": null,
            "object_position": null,
            "order": null,
            "overflow": null,
            "overflow_x": null,
            "overflow_y": null,
            "padding": null,
            "right": null,
            "top": null,
            "visibility": null,
            "width": null
          }
        },
        "d959aab975334cefac3d4177ce76066b": {
          "model_module": "@jupyter-widgets/controls",
          "model_name": "DescriptionStyleModel",
          "model_module_version": "1.5.0",
          "state": {
            "_model_module": "@jupyter-widgets/controls",
            "_model_module_version": "1.5.0",
            "_model_name": "DescriptionStyleModel",
            "_view_count": null,
            "_view_module": "@jupyter-widgets/base",
            "_view_module_version": "1.2.0",
            "_view_name": "StyleView",
            "description_width": ""
          }
        },
        "54e29f25e5ea48bcb1d775d93abd89a3": {
          "model_module": "@jupyter-widgets/base",
          "model_name": "LayoutModel",
          "model_module_version": "1.2.0",
          "state": {
            "_model_module": "@jupyter-widgets/base",
            "_model_module_version": "1.2.0",
            "_model_name": "LayoutModel",
            "_view_count": null,
            "_view_module": "@jupyter-widgets/base",
            "_view_module_version": "1.2.0",
            "_view_name": "LayoutView",
            "align_content": null,
            "align_items": null,
            "align_self": null,
            "border": null,
            "bottom": null,
            "display": null,
            "flex": null,
            "flex_flow": null,
            "grid_area": null,
            "grid_auto_columns": null,
            "grid_auto_flow": null,
            "grid_auto_rows": null,
            "grid_column": null,
            "grid_gap": null,
            "grid_row": null,
            "grid_template_areas": null,
            "grid_template_columns": null,
            "grid_template_rows": null,
            "height": null,
            "justify_content": null,
            "justify_items": null,
            "left": null,
            "margin": null,
            "max_height": null,
            "max_width": null,
            "min_height": null,
            "min_width": null,
            "object_fit": null,
            "object_position": null,
            "order": null,
            "overflow": null,
            "overflow_x": null,
            "overflow_y": null,
            "padding": null,
            "right": null,
            "top": null,
            "visibility": null,
            "width": null
          }
        },
        "cc62b222a72047db9b50548ed693e9df": {
          "model_module": "@jupyter-widgets/controls",
          "model_name": "ProgressStyleModel",
          "model_module_version": "1.5.0",
          "state": {
            "_model_module": "@jupyter-widgets/controls",
            "_model_module_version": "1.5.0",
            "_model_name": "ProgressStyleModel",
            "_view_count": null,
            "_view_module": "@jupyter-widgets/base",
            "_view_module_version": "1.2.0",
            "_view_name": "StyleView",
            "bar_color": null,
            "description_width": ""
          }
        },
        "3d1e2ec40a414a64b655dee4d8154090": {
          "model_module": "@jupyter-widgets/base",
          "model_name": "LayoutModel",
          "model_module_version": "1.2.0",
          "state": {
            "_model_module": "@jupyter-widgets/base",
            "_model_module_version": "1.2.0",
            "_model_name": "LayoutModel",
            "_view_count": null,
            "_view_module": "@jupyter-widgets/base",
            "_view_module_version": "1.2.0",
            "_view_name": "LayoutView",
            "align_content": null,
            "align_items": null,
            "align_self": null,
            "border": null,
            "bottom": null,
            "display": null,
            "flex": null,
            "flex_flow": null,
            "grid_area": null,
            "grid_auto_columns": null,
            "grid_auto_flow": null,
            "grid_auto_rows": null,
            "grid_column": null,
            "grid_gap": null,
            "grid_row": null,
            "grid_template_areas": null,
            "grid_template_columns": null,
            "grid_template_rows": null,
            "height": null,
            "justify_content": null,
            "justify_items": null,
            "left": null,
            "margin": null,
            "max_height": null,
            "max_width": null,
            "min_height": null,
            "min_width": null,
            "object_fit": null,
            "object_position": null,
            "order": null,
            "overflow": null,
            "overflow_x": null,
            "overflow_y": null,
            "padding": null,
            "right": null,
            "top": null,
            "visibility": null,
            "width": null
          }
        },
        "5d6eefdd633e41e1a7f885ee0f63a434": {
          "model_module": "@jupyter-widgets/controls",
          "model_name": "DescriptionStyleModel",
          "model_module_version": "1.5.0",
          "state": {
            "_model_module": "@jupyter-widgets/controls",
            "_model_module_version": "1.5.0",
            "_model_name": "DescriptionStyleModel",
            "_view_count": null,
            "_view_module": "@jupyter-widgets/base",
            "_view_module_version": "1.2.0",
            "_view_name": "StyleView",
            "description_width": ""
          }
        },
        "ac2abbe881474b10af62b8650450325c": {
          "model_module": "@jupyter-widgets/controls",
          "model_name": "HBoxModel",
          "model_module_version": "1.5.0",
          "state": {
            "_dom_classes": [],
            "_model_module": "@jupyter-widgets/controls",
            "_model_module_version": "1.5.0",
            "_model_name": "HBoxModel",
            "_view_count": null,
            "_view_module": "@jupyter-widgets/controls",
            "_view_module_version": "1.5.0",
            "_view_name": "HBoxView",
            "box_style": "",
            "children": [
              "IPY_MODEL_dfdc20a52c81430aad4f598bcaacf914",
              "IPY_MODEL_2e2d5b8f950349939c75e83ae1c05a0a",
              "IPY_MODEL_6ca46559bfd54a5d9be44022f933a4b6"
            ],
            "layout": "IPY_MODEL_dd8acd2037fc49a4b2b10ee0254ed0a0"
          }
        },
        "dfdc20a52c81430aad4f598bcaacf914": {
          "model_module": "@jupyter-widgets/controls",
          "model_name": "HTMLModel",
          "model_module_version": "1.5.0",
          "state": {
            "_dom_classes": [],
            "_model_module": "@jupyter-widgets/controls",
            "_model_module_version": "1.5.0",
            "_model_name": "HTMLModel",
            "_view_count": null,
            "_view_module": "@jupyter-widgets/controls",
            "_view_module_version": "1.5.0",
            "_view_name": "HTMLView",
            "description": "",
            "description_tooltip": null,
            "layout": "IPY_MODEL_65a335a1b44d4bd3b161365815ce835e",
            "placeholder": "​",
            "style": "IPY_MODEL_e956368ade1c4c1191dd3d908a09f268",
            "value": "pytorch_model.bin: 100%"
          }
        },
        "2e2d5b8f950349939c75e83ae1c05a0a": {
          "model_module": "@jupyter-widgets/controls",
          "model_name": "FloatProgressModel",
          "model_module_version": "1.5.0",
          "state": {
            "_dom_classes": [],
            "_model_module": "@jupyter-widgets/controls",
            "_model_module_version": "1.5.0",
            "_model_name": "FloatProgressModel",
            "_view_count": null,
            "_view_module": "@jupyter-widgets/controls",
            "_view_module_version": "1.5.0",
            "_view_name": "ProgressView",
            "bar_style": "success",
            "description": "",
            "description_tooltip": null,
            "layout": "IPY_MODEL_8b8e1e3791bd41bf925409d401e23d8c",
            "max": 266672595,
            "min": 0,
            "orientation": "horizontal",
            "style": "IPY_MODEL_a6900b34cdfc4fcdae6abc59e966f849",
            "value": 266672595
          }
        },
        "6ca46559bfd54a5d9be44022f933a4b6": {
          "model_module": "@jupyter-widgets/controls",
          "model_name": "HTMLModel",
          "model_module_version": "1.5.0",
          "state": {
            "_dom_classes": [],
            "_model_module": "@jupyter-widgets/controls",
            "_model_module_version": "1.5.0",
            "_model_name": "HTMLModel",
            "_view_count": null,
            "_view_module": "@jupyter-widgets/controls",
            "_view_module_version": "1.5.0",
            "_view_name": "HTMLView",
            "description": "",
            "description_tooltip": null,
            "layout": "IPY_MODEL_e9ac6f139c2c43bdb5078058fdd355d3",
            "placeholder": "​",
            "style": "IPY_MODEL_91aaad16f72945fca3a20dbe5a7b4938",
            "value": " 267M/267M [00:14&lt;00:00, 19.6MB/s]"
          }
        },
        "dd8acd2037fc49a4b2b10ee0254ed0a0": {
          "model_module": "@jupyter-widgets/base",
          "model_name": "LayoutModel",
          "model_module_version": "1.2.0",
          "state": {
            "_model_module": "@jupyter-widgets/base",
            "_model_module_version": "1.2.0",
            "_model_name": "LayoutModel",
            "_view_count": null,
            "_view_module": "@jupyter-widgets/base",
            "_view_module_version": "1.2.0",
            "_view_name": "LayoutView",
            "align_content": null,
            "align_items": null,
            "align_self": null,
            "border": null,
            "bottom": null,
            "display": null,
            "flex": null,
            "flex_flow": null,
            "grid_area": null,
            "grid_auto_columns": null,
            "grid_auto_flow": null,
            "grid_auto_rows": null,
            "grid_column": null,
            "grid_gap": null,
            "grid_row": null,
            "grid_template_areas": null,
            "grid_template_columns": null,
            "grid_template_rows": null,
            "height": null,
            "justify_content": null,
            "justify_items": null,
            "left": null,
            "margin": null,
            "max_height": null,
            "max_width": null,
            "min_height": null,
            "min_width": null,
            "object_fit": null,
            "object_position": null,
            "order": null,
            "overflow": null,
            "overflow_x": null,
            "overflow_y": null,
            "padding": null,
            "right": null,
            "top": null,
            "visibility": null,
            "width": null
          }
        },
        "65a335a1b44d4bd3b161365815ce835e": {
          "model_module": "@jupyter-widgets/base",
          "model_name": "LayoutModel",
          "model_module_version": "1.2.0",
          "state": {
            "_model_module": "@jupyter-widgets/base",
            "_model_module_version": "1.2.0",
            "_model_name": "LayoutModel",
            "_view_count": null,
            "_view_module": "@jupyter-widgets/base",
            "_view_module_version": "1.2.0",
            "_view_name": "LayoutView",
            "align_content": null,
            "align_items": null,
            "align_self": null,
            "border": null,
            "bottom": null,
            "display": null,
            "flex": null,
            "flex_flow": null,
            "grid_area": null,
            "grid_auto_columns": null,
            "grid_auto_flow": null,
            "grid_auto_rows": null,
            "grid_column": null,
            "grid_gap": null,
            "grid_row": null,
            "grid_template_areas": null,
            "grid_template_columns": null,
            "grid_template_rows": null,
            "height": null,
            "justify_content": null,
            "justify_items": null,
            "left": null,
            "margin": null,
            "max_height": null,
            "max_width": null,
            "min_height": null,
            "min_width": null,
            "object_fit": null,
            "object_position": null,
            "order": null,
            "overflow": null,
            "overflow_x": null,
            "overflow_y": null,
            "padding": null,
            "right": null,
            "top": null,
            "visibility": null,
            "width": null
          }
        },
        "e956368ade1c4c1191dd3d908a09f268": {
          "model_module": "@jupyter-widgets/controls",
          "model_name": "DescriptionStyleModel",
          "model_module_version": "1.5.0",
          "state": {
            "_model_module": "@jupyter-widgets/controls",
            "_model_module_version": "1.5.0",
            "_model_name": "DescriptionStyleModel",
            "_view_count": null,
            "_view_module": "@jupyter-widgets/base",
            "_view_module_version": "1.2.0",
            "_view_name": "StyleView",
            "description_width": ""
          }
        },
        "8b8e1e3791bd41bf925409d401e23d8c": {
          "model_module": "@jupyter-widgets/base",
          "model_name": "LayoutModel",
          "model_module_version": "1.2.0",
          "state": {
            "_model_module": "@jupyter-widgets/base",
            "_model_module_version": "1.2.0",
            "_model_name": "LayoutModel",
            "_view_count": null,
            "_view_module": "@jupyter-widgets/base",
            "_view_module_version": "1.2.0",
            "_view_name": "LayoutView",
            "align_content": null,
            "align_items": null,
            "align_self": null,
            "border": null,
            "bottom": null,
            "display": null,
            "flex": null,
            "flex_flow": null,
            "grid_area": null,
            "grid_auto_columns": null,
            "grid_auto_flow": null,
            "grid_auto_rows": null,
            "grid_column": null,
            "grid_gap": null,
            "grid_row": null,
            "grid_template_areas": null,
            "grid_template_columns": null,
            "grid_template_rows": null,
            "height": null,
            "justify_content": null,
            "justify_items": null,
            "left": null,
            "margin": null,
            "max_height": null,
            "max_width": null,
            "min_height": null,
            "min_width": null,
            "object_fit": null,
            "object_position": null,
            "order": null,
            "overflow": null,
            "overflow_x": null,
            "overflow_y": null,
            "padding": null,
            "right": null,
            "top": null,
            "visibility": null,
            "width": null
          }
        },
        "a6900b34cdfc4fcdae6abc59e966f849": {
          "model_module": "@jupyter-widgets/controls",
          "model_name": "ProgressStyleModel",
          "model_module_version": "1.5.0",
          "state": {
            "_model_module": "@jupyter-widgets/controls",
            "_model_module_version": "1.5.0",
            "_model_name": "ProgressStyleModel",
            "_view_count": null,
            "_view_module": "@jupyter-widgets/base",
            "_view_module_version": "1.2.0",
            "_view_name": "StyleView",
            "bar_color": null,
            "description_width": ""
          }
        },
        "e9ac6f139c2c43bdb5078058fdd355d3": {
          "model_module": "@jupyter-widgets/base",
          "model_name": "LayoutModel",
          "model_module_version": "1.2.0",
          "state": {
            "_model_module": "@jupyter-widgets/base",
            "_model_module_version": "1.2.0",
            "_model_name": "LayoutModel",
            "_view_count": null,
            "_view_module": "@jupyter-widgets/base",
            "_view_module_version": "1.2.0",
            "_view_name": "LayoutView",
            "align_content": null,
            "align_items": null,
            "align_self": null,
            "border": null,
            "bottom": null,
            "display": null,
            "flex": null,
            "flex_flow": null,
            "grid_area": null,
            "grid_auto_columns": null,
            "grid_auto_flow": null,
            "grid_auto_rows": null,
            "grid_column": null,
            "grid_gap": null,
            "grid_row": null,
            "grid_template_areas": null,
            "grid_template_columns": null,
            "grid_template_rows": null,
            "height": null,
            "justify_content": null,
            "justify_items": null,
            "left": null,
            "margin": null,
            "max_height": null,
            "max_width": null,
            "min_height": null,
            "min_width": null,
            "object_fit": null,
            "object_position": null,
            "order": null,
            "overflow": null,
            "overflow_x": null,
            "overflow_y": null,
            "padding": null,
            "right": null,
            "top": null,
            "visibility": null,
            "width": null
          }
        },
        "91aaad16f72945fca3a20dbe5a7b4938": {
          "model_module": "@jupyter-widgets/controls",
          "model_name": "DescriptionStyleModel",
          "model_module_version": "1.5.0",
          "state": {
            "_model_module": "@jupyter-widgets/controls",
            "_model_module_version": "1.5.0",
            "_model_name": "DescriptionStyleModel",
            "_view_count": null,
            "_view_module": "@jupyter-widgets/base",
            "_view_module_version": "1.2.0",
            "_view_name": "StyleView",
            "description_width": ""
          }
        }
      }
    }
  },
  "nbformat": 4,
  "nbformat_minor": 0
}