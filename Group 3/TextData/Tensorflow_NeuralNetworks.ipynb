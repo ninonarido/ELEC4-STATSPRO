{
  "nbformat": 4,
  "nbformat_minor": 0,
  "metadata": {
    "colab": {
      "provenance": []
    },
    "kernelspec": {
      "name": "python3",
      "display_name": "Python 3"
    },
    "language_info": {
      "name": "python"
    }
  },
  "cells": [
    {
      "cell_type": "code",
      "source": [
        "import pandas as pd\n",
        "import tensorflow as tf\n",
        "import numpy as np\n",
        "from sklearn.model_selection import train_test_split\n",
        "from sklearn.preprocessing import LabelEncoder\n",
        "from sklearn.metrics import accuracy_score, classification_report, confusion_matrix\n",
        "from nltk.tokenize import word_tokenize\n",
        "from nltk.corpus import stopwords\n",
        "from nltk.stem import PorterStemmer\n",
        "from wordcloud import WordCloud\n",
        "import matplotlib.pyplot as plt\n",
        "import seaborn as sns\n",
        "\n"
      ],
      "metadata": {
        "id": "BiEmAQFySc6t"
      },
      "execution_count": 29,
      "outputs": []
    },
    {
      "cell_type": "code",
      "source": [
        "import nltk\n",
        "nltk.download('punkt')\n",
        "nltk.download('stopwords')"
      ],
      "metadata": {
        "id": "Z2zSnA7jTajO",
        "outputId": "59abd677-6610-4468-dbb2-305c2cea7629",
        "colab": {
          "base_uri": "https://localhost:8080/"
        }
      },
      "execution_count": 30,
      "outputs": [
        {
          "output_type": "stream",
          "name": "stderr",
          "text": [
            "[nltk_data] Downloading package punkt to /root/nltk_data...\n",
            "[nltk_data]   Package punkt is already up-to-date!\n",
            "[nltk_data] Downloading package stopwords to /root/nltk_data...\n",
            "[nltk_data]   Package stopwords is already up-to-date!\n"
          ]
        },
        {
          "output_type": "execute_result",
          "data": {
            "text/plain": [
              "True"
            ]
          },
          "metadata": {},
          "execution_count": 30
        }
      ]
    },
    {
      "cell_type": "code",
      "source": [
        "# Load your data\n",
        "df = pd.read_excel('consolidated_output.xlsx')"
      ],
      "metadata": {
        "id": "_K3p2d92Sf81"
      },
      "execution_count": 31,
      "outputs": []
    },
    {
      "cell_type": "code",
      "source": [
        "from google.colab import drive\n",
        "drive.mount('/content/drive')"
      ],
      "metadata": {
        "colab": {
          "base_uri": "https://localhost:8080/"
        },
        "id": "swn2GGG0IQ1s",
        "outputId": "dd4c0d77-750a-41ca-896b-a5d4739d6260"
      },
      "execution_count": 32,
      "outputs": [
        {
          "output_type": "stream",
          "name": "stdout",
          "text": [
            "Drive already mounted at /content/drive; to attempt to forcibly remount, call drive.mount(\"/content/drive\", force_remount=True).\n"
          ]
        }
      ]
    },
    {
      "cell_type": "code",
      "source": [
        "# Preprocessing function\n",
        "def preprocess_text(text):\n",
        "    text = text.lower()\n",
        "    tokens = word_tokenize(text)\n",
        "    tokens = [token for token in tokens if token.isalnum()]\n",
        "    stop_words = set(stopwords.words('english'))\n",
        "    tokens = [token for token in tokens if token not in stop_words]\n",
        "    stemmer = PorterStemmer()\n",
        "    tokens = [stemmer.stem(token) for token in tokens]\n",
        "    return ' '.join(tokens)"
      ],
      "metadata": {
        "id": "JnLnPUzXShSl"
      },
      "execution_count": 33,
      "outputs": []
    },
    {
      "cell_type": "code",
      "source": [
        "# Filtering and keeping rows where 'classes' column does not contain 'others'\n",
        "df = df[df['class'] != 'Others']\n",
        "\n",
        "# Filtering out rows where 'text_data' column contains the specified string\n",
        "df = df[~df['text_data'].str.contains(\"Error: Unable to decode JSON in column 'Response Text'\")]"
      ],
      "metadata": {
        "id": "OCVqXU3CZ6dt"
      },
      "execution_count": 34,
      "outputs": []
    },
    {
      "cell_type": "code",
      "source": [
        "# Apply preprocessing\n",
        "df['text_data'] = df['text_data'].replace('\\n', ' ', regex=True)\n",
        "df['text_data'] = df['text_data'].apply(preprocess_text)"
      ],
      "metadata": {
        "id": "-GRoLrcdSick"
      },
      "execution_count": 35,
      "outputs": []
    },
    {
      "cell_type": "code",
      "source": [
        "# Convert class labels to numerical format\n",
        "label_encoder = LabelEncoder()\n",
        "df['class_encoded'] = label_encoder.fit_transform(df['class'])"
      ],
      "metadata": {
        "id": "VmRRchVXSkhG"
      },
      "execution_count": 36,
      "outputs": []
    },
    {
      "cell_type": "code",
      "source": [
        "#Transform encoded labels\n",
        "unique_classes = df['class_encoded'].unique()\n",
        "decoded_labels = label_encoder.inverse_transform(unique_classes)\n",
        "print(unique_classes)\n",
        "\n",
        "# Display the fitted classes and the decoded labels\n",
        "print(\"Fitted Classes:\", label_encoder.classes_)\n",
        "print(\"Decoded Labels:\", decoded_labels)"
      ],
      "metadata": {
        "colab": {
          "base_uri": "https://localhost:8080/"
        },
        "id": "bgXQzXdUL_lc",
        "outputId": "17c093ac-e09e-4967-ab8e-76777cd24c24"
      },
      "execution_count": 37,
      "outputs": [
        {
          "output_type": "stream",
          "name": "stdout",
          "text": [
            "[0 1 2 3 4 5 6 7 8]\n",
            "Fitted Classes: ['Assets' 'Compliance' 'Employee' 'Investments' 'Loans' 'Outsourcing'\n",
            " 'Transportation' 'Utilities and Supplies' 'Withdrawals']\n",
            "Decoded Labels: ['Assets' 'Compliance' 'Employee' 'Investments' 'Loans' 'Outsourcing'\n",
            " 'Transportation' 'Utilities and Supplies' 'Withdrawals']\n"
          ]
        }
      ]
    },
    {
      "cell_type": "code",
      "source": [
        "# Split the dataset\n",
        "X_train, X_test, y_train, y_test = train_test_split(df['text_data'], df['class_encoded'], test_size=0.3, random_state=42)\n"
      ],
      "metadata": {
        "id": "CvBHyU2ZSmVQ"
      },
      "execution_count": 38,
      "outputs": []
    },
    {
      "cell_type": "code",
      "source": [
        "# Tokenization and vectorization\n",
        "tokenizer = tf.keras.preprocessing.text.Tokenizer()\n",
        "tokenizer.fit_on_texts(X_train)\n",
        "\n",
        "X_train = tokenizer.texts_to_sequences(X_train)\n",
        "X_test = tokenizer.texts_to_sequences(X_test)\n",
        "\n",
        "vocab_size = len(tokenizer.word_index) + 1  # Add 1 for the padding token\n",
        "\n",
        "maxlen = 100  # Define maximum sequence length\n",
        "X_train = tf.keras.preprocessing.sequence.pad_sequences(X_train, padding='post', maxlen=maxlen)\n",
        "X_test = tf.keras.preprocessing.sequence.pad_sequences(X_test, padding='post', maxlen=maxlen)\n",
        "\n"
      ],
      "metadata": {
        "id": "mh3DhWZ7SneM"
      },
      "execution_count": 39,
      "outputs": []
    },
    {
      "cell_type": "code",
      "source": [
        "# Create and train the model\n",
        "model = tf.keras.Sequential([\n",
        "    tf.keras.layers.Embedding(vocab_size, 64, input_length=maxlen),\n",
        "    tf.keras.layers.GlobalAveragePooling1D(),\n",
        "    tf.keras.layers.Dense(10, activation='softmax')\n",
        "])\n",
        "\n",
        "model.compile(optimizer='adam', loss='sparse_categorical_crossentropy', metrics=['accuracy'])\n",
        "model.fit(X_train, y_train, epochs=200, batch_size=32, validation_data=(X_test, y_test))\n"
      ],
      "metadata": {
        "id": "9e3MohNOSrQy",
        "colab": {
          "base_uri": "https://localhost:8080/"
        },
        "outputId": "b173aaf5-0130-430f-e6e1-b36daacf8b26"
      },
      "execution_count": 40,
      "outputs": [
        {
          "output_type": "stream",
          "name": "stdout",
          "text": [
            "Epoch 1/200\n",
            "14/14 [==============================] - 1s 21ms/step - loss: 2.2848 - accuracy: 0.2600 - val_loss: 2.2619 - val_accuracy: 0.3279\n",
            "Epoch 2/200\n",
            "14/14 [==============================] - 0s 9ms/step - loss: 2.2393 - accuracy: 0.3653 - val_loss: 2.2170 - val_accuracy: 0.3169\n",
            "Epoch 3/200\n",
            "14/14 [==============================] - 0s 8ms/step - loss: 2.1852 - accuracy: 0.3630 - val_loss: 2.1613 - val_accuracy: 0.3224\n",
            "Epoch 4/200\n",
            "14/14 [==============================] - 0s 8ms/step - loss: 2.1203 - accuracy: 0.3677 - val_loss: 2.0968 - val_accuracy: 0.3169\n",
            "Epoch 5/200\n",
            "14/14 [==============================] - 0s 9ms/step - loss: 2.0444 - accuracy: 0.3607 - val_loss: 2.0280 - val_accuracy: 0.3169\n",
            "Epoch 6/200\n",
            "14/14 [==============================] - 0s 9ms/step - loss: 1.9658 - accuracy: 0.3630 - val_loss: 1.9576 - val_accuracy: 0.3115\n",
            "Epoch 7/200\n",
            "14/14 [==============================] - 0s 9ms/step - loss: 1.8852 - accuracy: 0.3583 - val_loss: 1.8982 - val_accuracy: 0.3115\n",
            "Epoch 8/200\n",
            "14/14 [==============================] - 0s 9ms/step - loss: 1.8190 - accuracy: 0.3560 - val_loss: 1.8479 - val_accuracy: 0.3115\n",
            "Epoch 9/200\n",
            "14/14 [==============================] - 0s 9ms/step - loss: 1.7608 - accuracy: 0.3536 - val_loss: 1.8104 - val_accuracy: 0.3115\n",
            "Epoch 10/200\n",
            "14/14 [==============================] - 0s 8ms/step - loss: 1.7154 - accuracy: 0.3536 - val_loss: 1.7791 - val_accuracy: 0.3115\n",
            "Epoch 11/200\n",
            "14/14 [==============================] - 0s 9ms/step - loss: 1.6777 - accuracy: 0.3653 - val_loss: 1.7529 - val_accuracy: 0.3115\n",
            "Epoch 12/200\n",
            "14/14 [==============================] - 0s 9ms/step - loss: 1.6450 - accuracy: 0.3677 - val_loss: 1.7301 - val_accuracy: 0.3224\n",
            "Epoch 13/200\n",
            "14/14 [==============================] - 0s 9ms/step - loss: 1.6155 - accuracy: 0.3841 - val_loss: 1.7082 - val_accuracy: 0.3279\n",
            "Epoch 14/200\n",
            "14/14 [==============================] - 0s 8ms/step - loss: 1.5872 - accuracy: 0.4098 - val_loss: 1.6898 - val_accuracy: 0.3388\n",
            "Epoch 15/200\n",
            "14/14 [==============================] - 0s 8ms/step - loss: 1.5604 - accuracy: 0.4473 - val_loss: 1.6701 - val_accuracy: 0.3443\n",
            "Epoch 16/200\n",
            "14/14 [==============================] - 0s 10ms/step - loss: 1.5340 - accuracy: 0.4543 - val_loss: 1.6492 - val_accuracy: 0.3661\n",
            "Epoch 17/200\n",
            "14/14 [==============================] - 0s 10ms/step - loss: 1.5062 - accuracy: 0.4801 - val_loss: 1.6317 - val_accuracy: 0.3880\n",
            "Epoch 18/200\n",
            "14/14 [==============================] - 0s 8ms/step - loss: 1.4797 - accuracy: 0.5059 - val_loss: 1.6082 - val_accuracy: 0.3880\n",
            "Epoch 19/200\n",
            "14/14 [==============================] - 0s 9ms/step - loss: 1.4520 - accuracy: 0.5340 - val_loss: 1.5872 - val_accuracy: 0.4098\n",
            "Epoch 20/200\n",
            "14/14 [==============================] - 0s 9ms/step - loss: 1.4250 - accuracy: 0.5550 - val_loss: 1.5688 - val_accuracy: 0.4262\n",
            "Epoch 21/200\n",
            "14/14 [==============================] - 0s 9ms/step - loss: 1.3976 - accuracy: 0.5644 - val_loss: 1.5479 - val_accuracy: 0.4262\n",
            "Epoch 22/200\n",
            "14/14 [==============================] - 0s 9ms/step - loss: 1.3696 - accuracy: 0.5878 - val_loss: 1.5281 - val_accuracy: 0.4372\n",
            "Epoch 23/200\n",
            "14/14 [==============================] - 0s 9ms/step - loss: 1.3418 - accuracy: 0.6112 - val_loss: 1.5089 - val_accuracy: 0.4372\n",
            "Epoch 24/200\n",
            "14/14 [==============================] - 0s 9ms/step - loss: 1.3146 - accuracy: 0.6206 - val_loss: 1.4872 - val_accuracy: 0.4699\n",
            "Epoch 25/200\n",
            "14/14 [==============================] - 0s 9ms/step - loss: 1.2867 - accuracy: 0.6370 - val_loss: 1.4686 - val_accuracy: 0.5082\n",
            "Epoch 26/200\n",
            "14/14 [==============================] - 0s 8ms/step - loss: 1.2594 - accuracy: 0.6721 - val_loss: 1.4498 - val_accuracy: 0.5027\n",
            "Epoch 27/200\n",
            "14/14 [==============================] - 0s 8ms/step - loss: 1.2326 - accuracy: 0.6885 - val_loss: 1.4266 - val_accuracy: 0.5027\n",
            "Epoch 28/200\n",
            "14/14 [==============================] - 0s 9ms/step - loss: 1.2045 - accuracy: 0.7026 - val_loss: 1.4079 - val_accuracy: 0.5246\n",
            "Epoch 29/200\n",
            "14/14 [==============================] - 0s 9ms/step - loss: 1.1775 - accuracy: 0.7190 - val_loss: 1.3886 - val_accuracy: 0.5410\n",
            "Epoch 30/200\n",
            "14/14 [==============================] - 0s 8ms/step - loss: 1.1513 - accuracy: 0.7190 - val_loss: 1.3706 - val_accuracy: 0.5519\n",
            "Epoch 31/200\n",
            "14/14 [==============================] - 0s 9ms/step - loss: 1.1253 - accuracy: 0.7260 - val_loss: 1.3510 - val_accuracy: 0.5574\n",
            "Epoch 32/200\n",
            "14/14 [==============================] - 0s 9ms/step - loss: 1.0993 - accuracy: 0.7424 - val_loss: 1.3351 - val_accuracy: 0.5574\n",
            "Epoch 33/200\n",
            "14/14 [==============================] - 0s 10ms/step - loss: 1.0729 - accuracy: 0.7541 - val_loss: 1.3180 - val_accuracy: 0.5628\n",
            "Epoch 34/200\n",
            "14/14 [==============================] - 0s 8ms/step - loss: 1.0474 - accuracy: 0.7611 - val_loss: 1.3021 - val_accuracy: 0.5738\n",
            "Epoch 35/200\n",
            "14/14 [==============================] - 0s 9ms/step - loss: 1.0228 - accuracy: 0.7635 - val_loss: 1.2851 - val_accuracy: 0.5792\n",
            "Epoch 36/200\n",
            "14/14 [==============================] - 0s 8ms/step - loss: 0.9983 - accuracy: 0.7705 - val_loss: 1.2692 - val_accuracy: 0.5902\n",
            "Epoch 37/200\n",
            "14/14 [==============================] - 0s 8ms/step - loss: 0.9740 - accuracy: 0.7728 - val_loss: 1.2549 - val_accuracy: 0.6120\n",
            "Epoch 38/200\n",
            "14/14 [==============================] - 0s 9ms/step - loss: 0.9500 - accuracy: 0.7869 - val_loss: 1.2389 - val_accuracy: 0.6175\n",
            "Epoch 39/200\n",
            "14/14 [==============================] - 0s 8ms/step - loss: 0.9266 - accuracy: 0.8126 - val_loss: 1.2251 - val_accuracy: 0.6230\n",
            "Epoch 40/200\n",
            "14/14 [==============================] - 0s 9ms/step - loss: 0.9032 - accuracy: 0.8197 - val_loss: 1.2090 - val_accuracy: 0.6230\n",
            "Epoch 41/200\n",
            "14/14 [==============================] - 0s 11ms/step - loss: 0.8807 - accuracy: 0.8220 - val_loss: 1.1934 - val_accuracy: 0.6393\n",
            "Epoch 42/200\n",
            "14/14 [==============================] - 0s 9ms/step - loss: 0.8581 - accuracy: 0.8314 - val_loss: 1.1814 - val_accuracy: 0.6393\n",
            "Epoch 43/200\n",
            "14/14 [==============================] - 0s 9ms/step - loss: 0.8362 - accuracy: 0.8337 - val_loss: 1.1683 - val_accuracy: 0.6448\n",
            "Epoch 44/200\n",
            "14/14 [==============================] - 0s 8ms/step - loss: 0.8153 - accuracy: 0.8361 - val_loss: 1.1543 - val_accuracy: 0.6557\n",
            "Epoch 45/200\n",
            "14/14 [==============================] - 0s 8ms/step - loss: 0.7941 - accuracy: 0.8501 - val_loss: 1.1422 - val_accuracy: 0.6612\n",
            "Epoch 46/200\n",
            "14/14 [==============================] - 0s 9ms/step - loss: 0.7732 - accuracy: 0.8571 - val_loss: 1.1308 - val_accuracy: 0.6721\n",
            "Epoch 47/200\n",
            "14/14 [==============================] - 0s 8ms/step - loss: 0.7532 - accuracy: 0.8595 - val_loss: 1.1179 - val_accuracy: 0.6940\n",
            "Epoch 48/200\n",
            "14/14 [==============================] - 0s 9ms/step - loss: 0.7336 - accuracy: 0.8712 - val_loss: 1.1050 - val_accuracy: 0.6940\n",
            "Epoch 49/200\n",
            "14/14 [==============================] - 0s 8ms/step - loss: 0.7141 - accuracy: 0.8712 - val_loss: 1.0936 - val_accuracy: 0.6995\n",
            "Epoch 50/200\n",
            "14/14 [==============================] - 0s 9ms/step - loss: 0.6957 - accuracy: 0.8735 - val_loss: 1.0834 - val_accuracy: 0.7104\n",
            "Epoch 51/200\n",
            "14/14 [==============================] - 0s 8ms/step - loss: 0.6774 - accuracy: 0.8712 - val_loss: 1.0723 - val_accuracy: 0.7158\n",
            "Epoch 52/200\n",
            "14/14 [==============================] - 0s 9ms/step - loss: 0.6596 - accuracy: 0.8829 - val_loss: 1.0616 - val_accuracy: 0.7432\n",
            "Epoch 53/200\n",
            "14/14 [==============================] - 0s 10ms/step - loss: 0.6421 - accuracy: 0.8829 - val_loss: 1.0499 - val_accuracy: 0.7432\n",
            "Epoch 54/200\n",
            "14/14 [==============================] - 0s 8ms/step - loss: 0.6254 - accuracy: 0.8923 - val_loss: 1.0391 - val_accuracy: 0.7486\n",
            "Epoch 55/200\n",
            "14/14 [==============================] - 0s 9ms/step - loss: 0.6084 - accuracy: 0.8923 - val_loss: 1.0285 - val_accuracy: 0.7432\n",
            "Epoch 56/200\n",
            "14/14 [==============================] - 0s 9ms/step - loss: 0.5924 - accuracy: 0.8923 - val_loss: 1.0205 - val_accuracy: 0.7432\n",
            "Epoch 57/200\n",
            "14/14 [==============================] - 0s 9ms/step - loss: 0.5763 - accuracy: 0.8923 - val_loss: 1.0124 - val_accuracy: 0.7486\n",
            "Epoch 58/200\n",
            "14/14 [==============================] - 0s 8ms/step - loss: 0.5615 - accuracy: 0.8993 - val_loss: 1.0039 - val_accuracy: 0.7486\n",
            "Epoch 59/200\n",
            "14/14 [==============================] - 0s 8ms/step - loss: 0.5464 - accuracy: 0.9016 - val_loss: 0.9931 - val_accuracy: 0.7541\n",
            "Epoch 60/200\n",
            "14/14 [==============================] - 0s 9ms/step - loss: 0.5323 - accuracy: 0.9087 - val_loss: 0.9833 - val_accuracy: 0.7596\n",
            "Epoch 61/200\n",
            "14/14 [==============================] - 0s 9ms/step - loss: 0.5178 - accuracy: 0.9110 - val_loss: 0.9772 - val_accuracy: 0.7541\n",
            "Epoch 62/200\n",
            "14/14 [==============================] - 0s 8ms/step - loss: 0.5039 - accuracy: 0.9157 - val_loss: 0.9671 - val_accuracy: 0.7541\n",
            "Epoch 63/200\n",
            "14/14 [==============================] - 0s 8ms/step - loss: 0.4904 - accuracy: 0.9180 - val_loss: 0.9584 - val_accuracy: 0.7596\n",
            "Epoch 64/200\n",
            "14/14 [==============================] - 0s 8ms/step - loss: 0.4771 - accuracy: 0.9204 - val_loss: 0.9505 - val_accuracy: 0.7596\n",
            "Epoch 65/200\n",
            "14/14 [==============================] - 0s 9ms/step - loss: 0.4650 - accuracy: 0.9204 - val_loss: 0.9442 - val_accuracy: 0.7650\n",
            "Epoch 66/200\n",
            "14/14 [==============================] - 0s 9ms/step - loss: 0.4523 - accuracy: 0.9251 - val_loss: 0.9346 - val_accuracy: 0.7650\n",
            "Epoch 67/200\n",
            "14/14 [==============================] - 0s 9ms/step - loss: 0.4402 - accuracy: 0.9297 - val_loss: 0.9274 - val_accuracy: 0.7650\n",
            "Epoch 68/200\n",
            "14/14 [==============================] - 0s 9ms/step - loss: 0.4287 - accuracy: 0.9321 - val_loss: 0.9210 - val_accuracy: 0.7650\n",
            "Epoch 69/200\n",
            "14/14 [==============================] - 0s 10ms/step - loss: 0.4176 - accuracy: 0.9391 - val_loss: 0.9139 - val_accuracy: 0.7650\n",
            "Epoch 70/200\n",
            "14/14 [==============================] - 0s 13ms/step - loss: 0.4061 - accuracy: 0.9461 - val_loss: 0.9068 - val_accuracy: 0.7650\n",
            "Epoch 71/200\n",
            "14/14 [==============================] - 0s 13ms/step - loss: 0.3955 - accuracy: 0.9461 - val_loss: 0.8997 - val_accuracy: 0.7650\n",
            "Epoch 72/200\n",
            "14/14 [==============================] - 0s 17ms/step - loss: 0.3858 - accuracy: 0.9485 - val_loss: 0.8923 - val_accuracy: 0.7705\n",
            "Epoch 73/200\n",
            "14/14 [==============================] - 0s 12ms/step - loss: 0.3748 - accuracy: 0.9485 - val_loss: 0.8869 - val_accuracy: 0.7705\n",
            "Epoch 74/200\n",
            "14/14 [==============================] - 0s 13ms/step - loss: 0.3650 - accuracy: 0.9485 - val_loss: 0.8812 - val_accuracy: 0.7705\n",
            "Epoch 75/200\n",
            "14/14 [==============================] - 0s 12ms/step - loss: 0.3553 - accuracy: 0.9508 - val_loss: 0.8753 - val_accuracy: 0.7705\n",
            "Epoch 76/200\n",
            "14/14 [==============================] - 0s 13ms/step - loss: 0.3460 - accuracy: 0.9508 - val_loss: 0.8703 - val_accuracy: 0.7705\n",
            "Epoch 77/200\n",
            "14/14 [==============================] - 0s 13ms/step - loss: 0.3368 - accuracy: 0.9532 - val_loss: 0.8647 - val_accuracy: 0.7705\n",
            "Epoch 78/200\n",
            "14/14 [==============================] - 0s 13ms/step - loss: 0.3279 - accuracy: 0.9578 - val_loss: 0.8586 - val_accuracy: 0.7760\n",
            "Epoch 79/200\n",
            "14/14 [==============================] - 0s 12ms/step - loss: 0.3199 - accuracy: 0.9578 - val_loss: 0.8532 - val_accuracy: 0.7760\n",
            "Epoch 80/200\n",
            "14/14 [==============================] - 0s 12ms/step - loss: 0.3114 - accuracy: 0.9578 - val_loss: 0.8483 - val_accuracy: 0.7760\n",
            "Epoch 81/200\n",
            "14/14 [==============================] - 0s 12ms/step - loss: 0.3031 - accuracy: 0.9602 - val_loss: 0.8445 - val_accuracy: 0.7760\n",
            "Epoch 82/200\n",
            "14/14 [==============================] - 0s 12ms/step - loss: 0.2953 - accuracy: 0.9625 - val_loss: 0.8391 - val_accuracy: 0.7760\n",
            "Epoch 83/200\n",
            "14/14 [==============================] - 0s 12ms/step - loss: 0.2874 - accuracy: 0.9625 - val_loss: 0.8349 - val_accuracy: 0.7760\n",
            "Epoch 84/200\n",
            "14/14 [==============================] - 0s 13ms/step - loss: 0.2797 - accuracy: 0.9672 - val_loss: 0.8299 - val_accuracy: 0.7760\n",
            "Epoch 85/200\n",
            "14/14 [==============================] - 0s 14ms/step - loss: 0.2724 - accuracy: 0.9672 - val_loss: 0.8264 - val_accuracy: 0.7760\n",
            "Epoch 86/200\n",
            "14/14 [==============================] - 0s 12ms/step - loss: 0.2657 - accuracy: 0.9696 - val_loss: 0.8211 - val_accuracy: 0.7705\n",
            "Epoch 87/200\n",
            "14/14 [==============================] - 0s 14ms/step - loss: 0.2583 - accuracy: 0.9696 - val_loss: 0.8166 - val_accuracy: 0.7760\n",
            "Epoch 88/200\n",
            "14/14 [==============================] - 0s 13ms/step - loss: 0.2520 - accuracy: 0.9719 - val_loss: 0.8122 - val_accuracy: 0.7760\n",
            "Epoch 89/200\n",
            "14/14 [==============================] - 0s 12ms/step - loss: 0.2457 - accuracy: 0.9719 - val_loss: 0.8065 - val_accuracy: 0.7705\n",
            "Epoch 90/200\n",
            "14/14 [==============================] - 0s 14ms/step - loss: 0.2394 - accuracy: 0.9766 - val_loss: 0.8033 - val_accuracy: 0.7705\n",
            "Epoch 91/200\n",
            "14/14 [==============================] - 0s 12ms/step - loss: 0.2328 - accuracy: 0.9789 - val_loss: 0.7992 - val_accuracy: 0.7705\n",
            "Epoch 92/200\n",
            "14/14 [==============================] - 0s 13ms/step - loss: 0.2268 - accuracy: 0.9813 - val_loss: 0.7960 - val_accuracy: 0.7760\n",
            "Epoch 93/200\n",
            "14/14 [==============================] - 0s 12ms/step - loss: 0.2214 - accuracy: 0.9813 - val_loss: 0.7935 - val_accuracy: 0.7814\n",
            "Epoch 94/200\n",
            "14/14 [==============================] - 0s 11ms/step - loss: 0.2157 - accuracy: 0.9836 - val_loss: 0.7887 - val_accuracy: 0.7814\n",
            "Epoch 95/200\n",
            "14/14 [==============================] - 0s 11ms/step - loss: 0.2100 - accuracy: 0.9836 - val_loss: 0.7852 - val_accuracy: 0.7869\n",
            "Epoch 96/200\n",
            "14/14 [==============================] - 0s 13ms/step - loss: 0.2048 - accuracy: 0.9836 - val_loss: 0.7816 - val_accuracy: 0.7923\n",
            "Epoch 97/200\n",
            "14/14 [==============================] - 0s 16ms/step - loss: 0.1994 - accuracy: 0.9836 - val_loss: 0.7790 - val_accuracy: 0.7923\n",
            "Epoch 98/200\n",
            "14/14 [==============================] - 0s 13ms/step - loss: 0.1945 - accuracy: 0.9859 - val_loss: 0.7762 - val_accuracy: 0.7923\n",
            "Epoch 99/200\n",
            "14/14 [==============================] - 0s 12ms/step - loss: 0.1898 - accuracy: 0.9859 - val_loss: 0.7743 - val_accuracy: 0.7978\n",
            "Epoch 100/200\n",
            "14/14 [==============================] - 0s 11ms/step - loss: 0.1851 - accuracy: 0.9859 - val_loss: 0.7700 - val_accuracy: 0.7978\n",
            "Epoch 101/200\n",
            "14/14 [==============================] - 0s 9ms/step - loss: 0.1807 - accuracy: 0.9859 - val_loss: 0.7662 - val_accuracy: 0.8033\n",
            "Epoch 102/200\n",
            "14/14 [==============================] - 0s 9ms/step - loss: 0.1760 - accuracy: 0.9859 - val_loss: 0.7652 - val_accuracy: 0.7978\n",
            "Epoch 103/200\n",
            "14/14 [==============================] - 0s 8ms/step - loss: 0.1713 - accuracy: 0.9859 - val_loss: 0.7615 - val_accuracy: 0.7978\n",
            "Epoch 104/200\n",
            "14/14 [==============================] - 0s 9ms/step - loss: 0.1673 - accuracy: 0.9859 - val_loss: 0.7593 - val_accuracy: 0.8033\n",
            "Epoch 105/200\n",
            "14/14 [==============================] - 0s 10ms/step - loss: 0.1631 - accuracy: 0.9859 - val_loss: 0.7579 - val_accuracy: 0.8087\n",
            "Epoch 106/200\n",
            "14/14 [==============================] - 0s 8ms/step - loss: 0.1595 - accuracy: 0.9859 - val_loss: 0.7550 - val_accuracy: 0.8087\n",
            "Epoch 107/200\n",
            "14/14 [==============================] - 0s 9ms/step - loss: 0.1554 - accuracy: 0.9859 - val_loss: 0.7528 - val_accuracy: 0.8087\n",
            "Epoch 108/200\n",
            "14/14 [==============================] - 0s 9ms/step - loss: 0.1514 - accuracy: 0.9859 - val_loss: 0.7499 - val_accuracy: 0.8087\n",
            "Epoch 109/200\n",
            "14/14 [==============================] - 0s 8ms/step - loss: 0.1481 - accuracy: 0.9859 - val_loss: 0.7476 - val_accuracy: 0.8087\n",
            "Epoch 110/200\n",
            "14/14 [==============================] - 0s 9ms/step - loss: 0.1442 - accuracy: 0.9883 - val_loss: 0.7454 - val_accuracy: 0.8142\n",
            "Epoch 111/200\n",
            "14/14 [==============================] - 0s 8ms/step - loss: 0.1410 - accuracy: 0.9883 - val_loss: 0.7438 - val_accuracy: 0.8142\n",
            "Epoch 112/200\n",
            "14/14 [==============================] - 0s 9ms/step - loss: 0.1377 - accuracy: 0.9883 - val_loss: 0.7409 - val_accuracy: 0.8142\n",
            "Epoch 113/200\n",
            "14/14 [==============================] - 0s 9ms/step - loss: 0.1346 - accuracy: 0.9883 - val_loss: 0.7389 - val_accuracy: 0.8142\n",
            "Epoch 114/200\n",
            "14/14 [==============================] - 0s 9ms/step - loss: 0.1314 - accuracy: 0.9883 - val_loss: 0.7367 - val_accuracy: 0.8197\n",
            "Epoch 115/200\n",
            "14/14 [==============================] - 0s 8ms/step - loss: 0.1282 - accuracy: 0.9883 - val_loss: 0.7353 - val_accuracy: 0.8251\n",
            "Epoch 116/200\n",
            "14/14 [==============================] - 0s 9ms/step - loss: 0.1252 - accuracy: 0.9883 - val_loss: 0.7341 - val_accuracy: 0.8251\n",
            "Epoch 117/200\n",
            "14/14 [==============================] - 0s 9ms/step - loss: 0.1223 - accuracy: 0.9883 - val_loss: 0.7321 - val_accuracy: 0.8197\n",
            "Epoch 118/200\n",
            "14/14 [==============================] - 0s 10ms/step - loss: 0.1195 - accuracy: 0.9883 - val_loss: 0.7309 - val_accuracy: 0.8197\n",
            "Epoch 119/200\n",
            "14/14 [==============================] - 0s 8ms/step - loss: 0.1169 - accuracy: 0.9906 - val_loss: 0.7292 - val_accuracy: 0.8197\n",
            "Epoch 120/200\n",
            "14/14 [==============================] - 0s 9ms/step - loss: 0.1140 - accuracy: 0.9906 - val_loss: 0.7281 - val_accuracy: 0.8251\n",
            "Epoch 121/200\n",
            "14/14 [==============================] - 0s 9ms/step - loss: 0.1113 - accuracy: 0.9906 - val_loss: 0.7268 - val_accuracy: 0.8251\n",
            "Epoch 122/200\n",
            "14/14 [==============================] - 0s 8ms/step - loss: 0.1088 - accuracy: 0.9906 - val_loss: 0.7249 - val_accuracy: 0.8251\n",
            "Epoch 123/200\n",
            "14/14 [==============================] - 0s 8ms/step - loss: 0.1064 - accuracy: 0.9906 - val_loss: 0.7228 - val_accuracy: 0.8251\n",
            "Epoch 124/200\n",
            "14/14 [==============================] - 0s 9ms/step - loss: 0.1040 - accuracy: 0.9953 - val_loss: 0.7208 - val_accuracy: 0.8251\n",
            "Epoch 125/200\n",
            "14/14 [==============================] - 0s 9ms/step - loss: 0.1017 - accuracy: 0.9953 - val_loss: 0.7204 - val_accuracy: 0.8251\n",
            "Epoch 126/200\n",
            "14/14 [==============================] - 0s 10ms/step - loss: 0.0994 - accuracy: 0.9953 - val_loss: 0.7195 - val_accuracy: 0.8251\n",
            "Epoch 127/200\n",
            "14/14 [==============================] - 0s 8ms/step - loss: 0.0974 - accuracy: 0.9930 - val_loss: 0.7191 - val_accuracy: 0.8251\n",
            "Epoch 128/200\n",
            "14/14 [==============================] - 0s 9ms/step - loss: 0.0951 - accuracy: 0.9953 - val_loss: 0.7185 - val_accuracy: 0.8251\n",
            "Epoch 129/200\n",
            "14/14 [==============================] - 0s 8ms/step - loss: 0.0931 - accuracy: 0.9953 - val_loss: 0.7172 - val_accuracy: 0.8251\n",
            "Epoch 130/200\n",
            "14/14 [==============================] - 0s 8ms/step - loss: 0.0908 - accuracy: 0.9953 - val_loss: 0.7163 - val_accuracy: 0.8251\n",
            "Epoch 131/200\n",
            "14/14 [==============================] - 0s 8ms/step - loss: 0.0890 - accuracy: 0.9930 - val_loss: 0.7148 - val_accuracy: 0.8251\n",
            "Epoch 132/200\n",
            "14/14 [==============================] - 0s 8ms/step - loss: 0.0871 - accuracy: 0.9930 - val_loss: 0.7135 - val_accuracy: 0.8251\n",
            "Epoch 133/200\n",
            "14/14 [==============================] - 0s 9ms/step - loss: 0.0853 - accuracy: 0.9953 - val_loss: 0.7123 - val_accuracy: 0.8251\n",
            "Epoch 134/200\n",
            "14/14 [==============================] - 0s 10ms/step - loss: 0.0835 - accuracy: 0.9953 - val_loss: 0.7115 - val_accuracy: 0.8251\n",
            "Epoch 135/200\n",
            "14/14 [==============================] - 0s 8ms/step - loss: 0.0817 - accuracy: 0.9953 - val_loss: 0.7103 - val_accuracy: 0.8251\n",
            "Epoch 136/200\n",
            "14/14 [==============================] - 0s 8ms/step - loss: 0.0801 - accuracy: 0.9953 - val_loss: 0.7102 - val_accuracy: 0.8197\n",
            "Epoch 137/200\n",
            "14/14 [==============================] - 0s 9ms/step - loss: 0.0784 - accuracy: 0.9953 - val_loss: 0.7100 - val_accuracy: 0.8251\n",
            "Epoch 138/200\n",
            "14/14 [==============================] - 0s 9ms/step - loss: 0.0768 - accuracy: 0.9953 - val_loss: 0.7087 - val_accuracy: 0.8251\n",
            "Epoch 139/200\n",
            "14/14 [==============================] - 0s 8ms/step - loss: 0.0752 - accuracy: 0.9953 - val_loss: 0.7075 - val_accuracy: 0.8251\n",
            "Epoch 140/200\n",
            "14/14 [==============================] - 0s 9ms/step - loss: 0.0736 - accuracy: 0.9953 - val_loss: 0.7064 - val_accuracy: 0.8251\n",
            "Epoch 141/200\n",
            "14/14 [==============================] - 0s 8ms/step - loss: 0.0722 - accuracy: 0.9953 - val_loss: 0.7051 - val_accuracy: 0.8251\n",
            "Epoch 142/200\n",
            "14/14 [==============================] - 0s 9ms/step - loss: 0.0708 - accuracy: 0.9953 - val_loss: 0.7042 - val_accuracy: 0.8251\n",
            "Epoch 143/200\n",
            "14/14 [==============================] - 0s 11ms/step - loss: 0.0693 - accuracy: 0.9953 - val_loss: 0.7037 - val_accuracy: 0.8251\n",
            "Epoch 144/200\n",
            "14/14 [==============================] - 0s 9ms/step - loss: 0.0679 - accuracy: 0.9953 - val_loss: 0.7035 - val_accuracy: 0.8251\n",
            "Epoch 145/200\n",
            "14/14 [==============================] - 0s 9ms/step - loss: 0.0667 - accuracy: 0.9953 - val_loss: 0.7019 - val_accuracy: 0.8251\n",
            "Epoch 146/200\n",
            "14/14 [==============================] - 0s 8ms/step - loss: 0.0652 - accuracy: 0.9953 - val_loss: 0.7015 - val_accuracy: 0.8251\n",
            "Epoch 147/200\n",
            "14/14 [==============================] - 0s 8ms/step - loss: 0.0640 - accuracy: 0.9953 - val_loss: 0.7007 - val_accuracy: 0.8251\n",
            "Epoch 148/200\n",
            "14/14 [==============================] - 0s 8ms/step - loss: 0.0627 - accuracy: 0.9953 - val_loss: 0.6999 - val_accuracy: 0.8251\n",
            "Epoch 149/200\n",
            "14/14 [==============================] - 0s 9ms/step - loss: 0.0615 - accuracy: 0.9953 - val_loss: 0.7002 - val_accuracy: 0.8251\n",
            "Epoch 150/200\n",
            "14/14 [==============================] - 0s 9ms/step - loss: 0.0604 - accuracy: 0.9953 - val_loss: 0.6994 - val_accuracy: 0.8251\n",
            "Epoch 151/200\n",
            "14/14 [==============================] - 0s 8ms/step - loss: 0.0593 - accuracy: 0.9930 - val_loss: 0.6998 - val_accuracy: 0.8251\n",
            "Epoch 152/200\n",
            "14/14 [==============================] - 0s 9ms/step - loss: 0.0581 - accuracy: 0.9953 - val_loss: 0.6978 - val_accuracy: 0.8306\n",
            "Epoch 153/200\n",
            "14/14 [==============================] - 0s 8ms/step - loss: 0.0570 - accuracy: 0.9953 - val_loss: 0.6983 - val_accuracy: 0.8306\n",
            "Epoch 154/200\n",
            "14/14 [==============================] - 0s 9ms/step - loss: 0.0559 - accuracy: 0.9930 - val_loss: 0.6977 - val_accuracy: 0.8251\n",
            "Epoch 155/200\n",
            "14/14 [==============================] - 0s 9ms/step - loss: 0.0549 - accuracy: 0.9953 - val_loss: 0.6981 - val_accuracy: 0.8251\n",
            "Epoch 156/200\n",
            "14/14 [==============================] - 0s 8ms/step - loss: 0.0538 - accuracy: 0.9953 - val_loss: 0.6972 - val_accuracy: 0.8251\n",
            "Epoch 157/200\n",
            "14/14 [==============================] - 0s 8ms/step - loss: 0.0530 - accuracy: 0.9930 - val_loss: 0.6973 - val_accuracy: 0.8306\n",
            "Epoch 158/200\n",
            "14/14 [==============================] - 0s 10ms/step - loss: 0.0520 - accuracy: 0.9953 - val_loss: 0.6978 - val_accuracy: 0.8251\n",
            "Epoch 159/200\n",
            "14/14 [==============================] - 0s 9ms/step - loss: 0.0510 - accuracy: 0.9953 - val_loss: 0.6974 - val_accuracy: 0.8251\n",
            "Epoch 160/200\n",
            "14/14 [==============================] - 0s 8ms/step - loss: 0.0501 - accuracy: 0.9953 - val_loss: 0.6962 - val_accuracy: 0.8306\n",
            "Epoch 161/200\n",
            "14/14 [==============================] - 0s 8ms/step - loss: 0.0492 - accuracy: 0.9953 - val_loss: 0.6961 - val_accuracy: 0.8306\n",
            "Epoch 162/200\n",
            "14/14 [==============================] - 0s 9ms/step - loss: 0.0486 - accuracy: 0.9930 - val_loss: 0.6967 - val_accuracy: 0.8306\n",
            "Epoch 163/200\n",
            "14/14 [==============================] - 0s 8ms/step - loss: 0.0476 - accuracy: 0.9953 - val_loss: 0.6964 - val_accuracy: 0.8306\n",
            "Epoch 164/200\n",
            "14/14 [==============================] - 0s 9ms/step - loss: 0.0468 - accuracy: 0.9953 - val_loss: 0.6956 - val_accuracy: 0.8361\n",
            "Epoch 165/200\n",
            "14/14 [==============================] - 0s 9ms/step - loss: 0.0459 - accuracy: 0.9953 - val_loss: 0.6959 - val_accuracy: 0.8306\n",
            "Epoch 166/200\n",
            "14/14 [==============================] - 0s 10ms/step - loss: 0.0451 - accuracy: 0.9953 - val_loss: 0.6960 - val_accuracy: 0.8361\n",
            "Epoch 167/200\n",
            "14/14 [==============================] - 0s 8ms/step - loss: 0.0444 - accuracy: 0.9953 - val_loss: 0.6958 - val_accuracy: 0.8361\n",
            "Epoch 168/200\n",
            "14/14 [==============================] - 0s 8ms/step - loss: 0.0436 - accuracy: 0.9953 - val_loss: 0.6964 - val_accuracy: 0.8306\n",
            "Epoch 169/200\n",
            "14/14 [==============================] - 0s 9ms/step - loss: 0.0430 - accuracy: 0.9953 - val_loss: 0.6957 - val_accuracy: 0.8251\n",
            "Epoch 170/200\n",
            "14/14 [==============================] - 0s 9ms/step - loss: 0.0422 - accuracy: 0.9977 - val_loss: 0.6960 - val_accuracy: 0.8197\n",
            "Epoch 171/200\n",
            "14/14 [==============================] - 0s 9ms/step - loss: 0.0415 - accuracy: 0.9953 - val_loss: 0.6961 - val_accuracy: 0.8306\n",
            "Epoch 172/200\n",
            "14/14 [==============================] - 0s 9ms/step - loss: 0.0408 - accuracy: 0.9953 - val_loss: 0.6959 - val_accuracy: 0.8306\n",
            "Epoch 173/200\n",
            "14/14 [==============================] - 0s 8ms/step - loss: 0.0401 - accuracy: 0.9953 - val_loss: 0.6953 - val_accuracy: 0.8361\n",
            "Epoch 174/200\n",
            "14/14 [==============================] - 0s 9ms/step - loss: 0.0395 - accuracy: 0.9953 - val_loss: 0.6957 - val_accuracy: 0.8361\n",
            "Epoch 175/200\n",
            "14/14 [==============================] - 0s 9ms/step - loss: 0.0388 - accuracy: 0.9977 - val_loss: 0.6947 - val_accuracy: 0.8361\n",
            "Epoch 176/200\n",
            "14/14 [==============================] - 0s 8ms/step - loss: 0.0383 - accuracy: 0.9977 - val_loss: 0.6947 - val_accuracy: 0.8361\n",
            "Epoch 177/200\n",
            "14/14 [==============================] - 0s 8ms/step - loss: 0.0376 - accuracy: 0.9977 - val_loss: 0.6939 - val_accuracy: 0.8361\n",
            "Epoch 178/200\n",
            "14/14 [==============================] - 0s 12ms/step - loss: 0.0370 - accuracy: 0.9977 - val_loss: 0.6944 - val_accuracy: 0.8361\n",
            "Epoch 179/200\n",
            "14/14 [==============================] - 0s 13ms/step - loss: 0.0365 - accuracy: 0.9977 - val_loss: 0.6939 - val_accuracy: 0.8361\n",
            "Epoch 180/200\n",
            "14/14 [==============================] - 0s 13ms/step - loss: 0.0358 - accuracy: 0.9977 - val_loss: 0.6948 - val_accuracy: 0.8361\n",
            "Epoch 181/200\n",
            "14/14 [==============================] - 0s 14ms/step - loss: 0.0353 - accuracy: 0.9977 - val_loss: 0.6945 - val_accuracy: 0.8361\n",
            "Epoch 182/200\n",
            "14/14 [==============================] - 0s 12ms/step - loss: 0.0348 - accuracy: 0.9977 - val_loss: 0.6950 - val_accuracy: 0.8361\n",
            "Epoch 183/200\n",
            "14/14 [==============================] - 0s 12ms/step - loss: 0.0343 - accuracy: 0.9977 - val_loss: 0.6946 - val_accuracy: 0.8361\n",
            "Epoch 184/200\n",
            "14/14 [==============================] - 0s 12ms/step - loss: 0.0338 - accuracy: 0.9977 - val_loss: 0.6940 - val_accuracy: 0.8361\n",
            "Epoch 185/200\n",
            "14/14 [==============================] - 0s 13ms/step - loss: 0.0332 - accuracy: 0.9977 - val_loss: 0.6937 - val_accuracy: 0.8361\n",
            "Epoch 186/200\n",
            "14/14 [==============================] - 0s 12ms/step - loss: 0.0328 - accuracy: 0.9953 - val_loss: 0.6937 - val_accuracy: 0.8415\n",
            "Epoch 187/200\n",
            "14/14 [==============================] - 0s 14ms/step - loss: 0.0322 - accuracy: 0.9977 - val_loss: 0.6944 - val_accuracy: 0.8415\n",
            "Epoch 188/200\n",
            "14/14 [==============================] - 0s 12ms/step - loss: 0.0318 - accuracy: 0.9953 - val_loss: 0.6949 - val_accuracy: 0.8415\n",
            "Epoch 189/200\n",
            "14/14 [==============================] - 0s 12ms/step - loss: 0.0313 - accuracy: 0.9953 - val_loss: 0.6944 - val_accuracy: 0.8415\n",
            "Epoch 190/200\n",
            "14/14 [==============================] - 0s 12ms/step - loss: 0.0310 - accuracy: 0.9953 - val_loss: 0.6949 - val_accuracy: 0.8415\n",
            "Epoch 191/200\n",
            "14/14 [==============================] - 0s 11ms/step - loss: 0.0304 - accuracy: 0.9977 - val_loss: 0.6952 - val_accuracy: 0.8361\n",
            "Epoch 192/200\n",
            "14/14 [==============================] - 0s 18ms/step - loss: 0.0299 - accuracy: 0.9977 - val_loss: 0.6954 - val_accuracy: 0.8361\n",
            "Epoch 193/200\n",
            "14/14 [==============================] - 0s 12ms/step - loss: 0.0296 - accuracy: 0.9953 - val_loss: 0.6946 - val_accuracy: 0.8361\n",
            "Epoch 194/200\n",
            "14/14 [==============================] - 0s 13ms/step - loss: 0.0292 - accuracy: 0.9977 - val_loss: 0.6949 - val_accuracy: 0.8361\n",
            "Epoch 195/200\n",
            "14/14 [==============================] - 0s 11ms/step - loss: 0.0287 - accuracy: 0.9977 - val_loss: 0.6954 - val_accuracy: 0.8361\n",
            "Epoch 196/200\n",
            "14/14 [==============================] - 0s 12ms/step - loss: 0.0283 - accuracy: 0.9977 - val_loss: 0.6958 - val_accuracy: 0.8415\n",
            "Epoch 197/200\n",
            "14/14 [==============================] - 0s 12ms/step - loss: 0.0279 - accuracy: 0.9953 - val_loss: 0.6955 - val_accuracy: 0.8415\n",
            "Epoch 198/200\n",
            "14/14 [==============================] - 0s 14ms/step - loss: 0.0275 - accuracy: 0.9953 - val_loss: 0.6954 - val_accuracy: 0.8415\n",
            "Epoch 199/200\n",
            "14/14 [==============================] - 0s 13ms/step - loss: 0.0271 - accuracy: 0.9977 - val_loss: 0.6955 - val_accuracy: 0.8361\n",
            "Epoch 200/200\n",
            "14/14 [==============================] - 0s 12ms/step - loss: 0.0268 - accuracy: 0.9977 - val_loss: 0.6961 - val_accuracy: 0.8361\n"
          ]
        },
        {
          "output_type": "execute_result",
          "data": {
            "text/plain": [
              "<keras.src.callbacks.History at 0x7d8afadda920>"
            ]
          },
          "metadata": {},
          "execution_count": 40
        }
      ]
    },
    {
      "cell_type": "code",
      "source": [
        "# Evaluate the model\n",
        "loss, accuracy = model.evaluate(X_test, y_test)\n",
        "print(f\"Accuracy: {accuracy}\")"
      ],
      "metadata": {
        "id": "5PEKPJNhSug8",
        "colab": {
          "base_uri": "https://localhost:8080/"
        },
        "outputId": "37bbac4a-bc69-4755-bda1-86f0cb12eee5"
      },
      "execution_count": 41,
      "outputs": [
        {
          "output_type": "stream",
          "name": "stdout",
          "text": [
            "6/6 [==============================] - 0s 3ms/step - loss: 0.6961 - accuracy: 0.8361\n",
            "Accuracy: 0.8360655903816223\n"
          ]
        }
      ]
    },
    {
      "cell_type": "code",
      "source": [
        "# Generate predictions\n",
        "y_pred_probs = model.predict(X_test)\n",
        "y_pred = y_pred_probs.argmax(axis=1)"
      ],
      "metadata": {
        "id": "_Eec1SBwSv1U",
        "colab": {
          "base_uri": "https://localhost:8080/"
        },
        "outputId": "b22e2629-40ae-4afb-9b89-fcaafe2795d4"
      },
      "execution_count": 42,
      "outputs": [
        {
          "output_type": "stream",
          "name": "stdout",
          "text": [
            "6/6 [==============================] - 0s 3ms/step\n"
          ]
        }
      ]
    },
    {
      "cell_type": "code",
      "source": [
        "# Classification report and confusion matrix\n",
        "print(\"Classification Report:\\n\", classification_report(y_test, y_pred))\n",
        "conf_mat = confusion_matrix(y_test, y_pred)"
      ],
      "metadata": {
        "id": "n7jbbo1SSxBE",
        "colab": {
          "base_uri": "https://localhost:8080/"
        },
        "outputId": "f9a9d181-3367-427b-e37c-df97ccc61f24"
      },
      "execution_count": 43,
      "outputs": [
        {
          "output_type": "stream",
          "name": "stdout",
          "text": [
            "Classification Report:\n",
            "               precision    recall  f1-score   support\n",
            "\n",
            "           0       0.92      1.00      0.96        11\n",
            "           1       0.79      0.70      0.74        33\n",
            "           2       0.85      0.94      0.89        47\n",
            "           3       1.00      0.89      0.94         9\n",
            "           4       1.00      0.50      0.67         4\n",
            "           5       0.78      0.85      0.81        33\n",
            "           6       1.00      0.40      0.57         5\n",
            "           7       0.84      0.94      0.89        33\n",
            "           8       0.80      0.50      0.62         8\n",
            "\n",
            "    accuracy                           0.84       183\n",
            "   macro avg       0.89      0.75      0.79       183\n",
            "weighted avg       0.84      0.84      0.83       183\n",
            "\n"
          ]
        }
      ]
    },
    {
      "cell_type": "code",
      "source": [
        "# Plot confusion matrix\n",
        "plt.figure(figsize=(10, 8))\n",
        "sns.heatmap(conf_mat, annot=True, fmt='d', cmap='Blues')\n",
        "plt.title('Confusion Matrix')\n",
        "plt.xlabel('Predicted Label')\n",
        "plt.ylabel('True Label')\n",
        "plt.show()"
      ],
      "metadata": {
        "id": "IG01YlY-SylE",
        "colab": {
          "base_uri": "https://localhost:8080/",
          "height": 623
        },
        "outputId": "dbdb55e7-284c-453b-9ced-c414d86a8edb"
      },
      "execution_count": 44,
      "outputs": [
        {
          "output_type": "display_data",
          "data": {
            "text/plain": [
              "<Figure size 1000x800 with 2 Axes>"
            ],
            "image/png": "[encoded data removed]"
          },
          "metadata": {}
        }
      ]
    },
    {
      "cell_type": "code",
      "source": [
        "print(df['class'].value_counts())\n"
      ],
      "metadata": {
        "colab": {
          "base_uri": "https://localhost:8080/"
        },
        "id": "IDef9KKJHS0s",
        "outputId": "dc4e2c9f-ac29-41d9-9ba5-5a1fa3b4ab33"
      },
      "execution_count": 45,
      "outputs": [
        {
          "output_type": "stream",
          "name": "stdout",
          "text": [
            "Employee                  147\n",
            "Outsourcing               134\n",
            "Utilities and Supplies    131\n",
            "Compliance                 93\n",
            "Assets                     29\n",
            "Investments                29\n",
            "Withdrawals                23\n",
            "Transportation             16\n",
            "Loans                       8\n",
            "Name: class, dtype: int64\n"
          ]
        }
      ]
    },
    {
      "cell_type": "code",
      "source": [
        "# Save the trained model\n",
        "model.save('my_model')"
      ],
      "metadata": {
        "id": "RvgUKTOmdZlN"
      },
      "execution_count": 46,
      "outputs": []
    },
    {
      "cell_type": "code",
      "source": [
        "# Convert the TensorFlow model to TensorFlow Lite\n",
        "converter = tf.lite.TFLiteConverter.from_saved_model('my_model')  # Load the saved model\n",
        "tflite_model = converter.convert()\n",
        "\n",
        "# Save the TensorFlow Lite model to a file\n",
        "with open('model.tflite', 'wb') as f:\n",
        "    f.write(tflite_model)"
      ],
      "metadata": {
        "id": "gxsFITOFdbgc"
      },
      "execution_count": 47,
      "outputs": []
    }
  ]
}