{
  "nbformat": 4,
  "nbformat_minor": 0,
  "metadata": {
    "colab": {
      "provenance": [],
      "mount_file_id": "18oaVP2u3xBUIrG6LayMi4WlqhSoDK5L8",
      "authorship_tag": "ABX9TyNQoUfZ9lQD5YWqL0X2SAX1",
      "include_colab_link": true
    },
    "kernelspec": {
      "name": "python3",
      "display_name": "Python 3"
    },
    "language_info": {
      "name": "python"
    }
  },
  "cells": [
    {
      "cell_type": "markdown",
      "metadata": {
        "id": "view-in-github",
        "colab_type": "text"
      },
      "source": [
        "<a href=\"https://colab.research.google.com/github/ZYD-9/9x3-Neural_Style_Transfer-Notebook/blob/main/1st_Class_domain_adaptation_for_class_1.ipynb\" target=\"_parent\"><img src=\"https://colab.research.google.com/assets/colab-badge.svg\" alt=\"Open In Colab\"/></a>"
      ]
    },
    {
      "cell_type": "code",
      "execution_count": null,
      "metadata": {
        "id": "hhaaSaHFJWeK"
      },
      "outputs": [],
      "source": [
        "import torch\n",
        "import torchvision.models as models\n",
        "import torch.nn as nn\n",
        "import torch.optim as optim\n",
        "from torchvision import transforms\n",
        "from torch.utils.data import DataLoader, TensorDataset, Dataset"
      ]
    },
    {
      "cell_type": "code",
      "source": [
        "vgg19 = models.vgg19(pretrained=True).features\n",
        "\n",
        "# Disable gradient updates\n",
        "for param in vgg19.parameters():\n",
        "    param.requires_grad = True"
      ],
      "metadata": {
        "colab": {
          "base_uri": "https://localhost:8080/"
        },
        "id": "2bYUVwo7Kb2l",
        "outputId": "512b8981-ba82-4985-ea04-c702b956587b"
      },
      "execution_count": null,
      "outputs": [
        {
          "output_type": "stream",
          "name": "stderr",
          "text": [
            "/usr/local/lib/python3.10/dist-packages/torchvision/models/_utils.py:208: UserWarning: The parameter 'pretrained' is deprecated since 0.13 and may be removed in the future, please use 'weights' instead.\n",
            "  warnings.warn(\n",
            "/usr/local/lib/python3.10/dist-packages/torchvision/models/_utils.py:223: UserWarning: Arguments other than a weight enum or `None` for 'weights' are deprecated since 0.13 and may be removed in the future. The current behavior is equivalent to passing `weights=VGG19_Weights.IMAGENET1K_V1`. You can also use `weights=VGG19_Weights.DEFAULT` to get the most up-to-date weights.\n",
            "  warnings.warn(msg)\n"
          ]
        }
      ]
    },
    {
      "cell_type": "code",
      "source": [],
      "metadata": {
        "id": "bXYmJkmCK4rG"
      },
      "execution_count": null,
      "outputs": []
    },
    {
      "cell_type": "code",
      "source": [
        "import os\n",
        "from PIL import Image\n",
        "\n",
        "class CustomDataset(Dataset):\n",
        "    def __init__(self, directory, transform=None):\n",
        "        self.directory = directory\n",
        "        self.transform = transform\n",
        "        self.images = [img for img in os.listdir(directory)\n",
        "                       if os.path.isfile(os.path.join(directory, img))\n",
        "                       and img.lower().endswith(('.png', '.jpg', '.jpeg', '.tiff', '.bmp', '.gif'))]\n",
        "\n",
        "    def __len__(self):\n",
        "        return len(self.images)\n",
        "\n",
        "    def __getitem__(self, idx):\n",
        "        img_name = os.path.join(self.directory, self.images[idx])\n",
        "        # Open the image file and convert it to RGB to ensure three channels\n",
        "        image = Image.open(img_name).convert('RGB')\n",
        "\n",
        "        if self.transform:\n",
        "            image = self.transform(image)\n",
        "\n",
        "        return image\n"
      ],
      "metadata": {
        "id": "C2qaN4hJwhil"
      },
      "execution_count": null,
      "outputs": []
    },
    {
      "cell_type": "code",
      "source": [
        "class DomainClassifier(nn.Module):\n",
        "    def __init__(self):\n",
        "        super(DomainClassifier, self).__init__()\n",
        "        self.classifier = nn.Sequential(\n",
        "            nn.Linear(512 * 7 * 7, 1024),  # VGG19 outputs 512x7x7 feature maps\n",
        "            nn.ReLU(),\n",
        "            nn.Dropout(0.5),\n",
        "            nn.Linear(1024, 2)  # Binary classification: source or target\n",
        "        )\n",
        "\n",
        "    def forward(self, x):\n",
        "        x = x.view(x.size(0), -1)  # Flatten the feature maps\n",
        "        return self.classifier(x)\n",
        "\n",
        "domain_classifier = DomainClassifier()\n"
      ],
      "metadata": {
        "id": "B5eOeJq-KiPV"
      },
      "execution_count": null,
      "outputs": []
    },
    {
      "cell_type": "code",
      "source": [],
      "metadata": {
        "id": "4MKm-GcIcKF4"
      },
      "execution_count": null,
      "outputs": []
    },
    {
      "cell_type": "code",
      "source": [
        "transform = transforms.Compose([\n",
        "    transforms.Resize((224, 224)),\n",
        "    transforms.ToTensor(),\n",
        "\n",
        "])\n",
        "\n",
        "wikiart_dataset = CustomDataset('/content/drive/MyDrive/wikiart_dataset/Romanticism/Romanticism', transform=transform)\n",
        "philippine_dataset = CustomDataset('/content/drive/MyDrive/target Datasets/Class1', transform=transform)\n",
        "\n",
        "wikiart_loader = DataLoader(wikiart_dataset, batch_size=32, shuffle=True)\n",
        "philippine_loader = DataLoader(philippine_dataset, batch_size=32, shuffle=True)"
      ],
      "metadata": {
        "id": "D97rLkNMKqVt"
      },
      "execution_count": null,
      "outputs": []
    },
    {
      "cell_type": "code",
      "source": [
        "optimizer = optim.Adam(domain_classifier.parameters(), lr=0.001)\n",
        "criterion = nn.CrossEntropyLoss()\n",
        "\n",
        "num_epochs = 10\n",
        "for epoch in range(num_epochs):\n",
        "    domain_classifier.train()\n",
        "    for source_data, target_data in zip(wikiart_loader, philippine_loader):\n",
        "        source_images = source_data\n",
        "        target_images = target_data\n",
        "\n",
        "        # Extract features using VGG19\n",
        "        source_features = vgg19(source_images)\n",
        "        target_features = vgg19(target_images)\n",
        "\n",
        "        # Concatenate source and target features and create domain labels\n",
        "        combined_features = torch.cat([source_features, target_features], 0)\n",
        "        domain_labels = torch.cat([torch.zeros(source_features.size(0)),\n",
        "                                   torch.ones(target_features.size(0))], 0).long()\n",
        "\n",
        "        # Domain classification\n",
        "        domain_preds = domain_classifier(combined_features)\n",
        "        loss = criterion(domain_preds, domain_labels)\n",
        "\n",
        "        # Backpropagation\n",
        "        optimizer.zero_grad()\n",
        "        loss.backward()\n",
        "        optimizer.step()\n",
        "\n",
        "    print(f\"Epoch [{epoch+1}/{num_epochs}], Loss: {loss.item():.4f}\")\n"
      ],
      "metadata": {
        "colab": {
          "base_uri": "https://localhost:8080/"
        },
        "id": "i_jI34klMCL8",
        "outputId": "b83a7498-4c76-4ed9-875a-af0cbb45210e"
      },
      "execution_count": null,
      "outputs": [
        {
          "output_type": "stream",
          "name": "stdout",
          "text": [
            "Epoch [1/10], Loss: 1.2163\n",
            "Epoch [2/10], Loss: 3.3788\n",
            "Epoch [3/10], Loss: 1.3970\n",
            "Epoch [4/10], Loss: 0.6468\n",
            "Epoch [5/10], Loss: 0.4403\n",
            "Epoch [6/10], Loss: 0.4714\n",
            "Epoch [7/10], Loss: 0.2306\n",
            "Epoch [8/10], Loss: 0.0472\n",
            "Epoch [9/10], Loss: 0.0705\n",
            "Epoch [10/10], Loss: 0.1443\n"
          ]
        }
      ]
    },
    {
      "cell_type": "code",
      "source": [
        "import numpy as np\n",
        "from sklearn.decomposition import PCA\n",
        "import matplotlib.pyplot as plt\n",
        "\n",
        "source_features_flat = source_features.view(source_features.size(0), -1).cpu().detach().numpy()\n",
        "target_features_flat = target_features.view(target_features.size(0), -1).cpu().detach().numpy()\n",
        "\n",
        "combined_features_flat = np.concatenate([source_features_flat,target_features_flat],axis = 0)\n",
        "pca = PCA(n_components=2)\n",
        "reduced_features = pca.fit_transform(combined_features_flat)\n",
        "\n",
        "reduced_source = reduced_features[:len(source_features_flat)]\n",
        "reduced_target = reduced_features[:len(target_features_flat):]"
      ],
      "metadata": {
        "id": "NF0hoQvCTiBS"
      },
      "execution_count": null,
      "outputs": []
    },
    {
      "cell_type": "code",
      "source": [
        "plt.figure(figsize=(8, 6))\n",
        "plt.scatter(reduced_source[:, 0], reduced_source[:, 1], c='blue', label='Source Domain', alpha=0.5)\n",
        "plt.scatter(reduced_target[:, 0], reduced_target[:, 1], c='red', label='Target Domain', alpha=0.5)\n",
        "plt.xlabel('Principal Component 1')\n",
        "plt.ylabel('Principal Component 2')\n",
        "plt.title('PCA of Source and Target Domain Features')\n",
        "plt.legend()\n",
        "plt.show()"
      ],
      "metadata": {
        "colab": {
          "base_uri": "https://localhost:8080/",
          "height": 564
        },
        "id": "F0nGz2v_X_1O",
        "outputId": "ca343f51-aeef-4232-a9da-dd2872ea131a"
      },
      "execution_count": null,
      "outputs": [
        {
          "output_type": "display_data",
          "data": {
            "text/plain": [
              "<Figure size 800x600 with 1 Axes>"
            ],
            "image/png": "[encoded data removed]"
          },
          "metadata": {}
        }
      ]
    },
    {
      "cell_type": "code",
      "source": [
        "\n",
        "torch.save(vgg19.state_dict(), '/content/drive/MyDrive/model/vgg19_fined_tuned.pth')"
      ],
      "metadata": {
        "id": "FlXFAvBOfLpE"
      },
      "execution_count": null,
      "outputs": []
    }
  ]
}